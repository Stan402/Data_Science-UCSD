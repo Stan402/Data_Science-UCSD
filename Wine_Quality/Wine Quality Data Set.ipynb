{
 "cells": [
  {
   "cell_type": "code",
   "execution_count": 1,
   "metadata": {},
   "outputs": [],
   "source": [
    "import numpy as np\n",
    "import pandas as pd\n",
    "import copy\n",
    "import time\n",
    "import matplotlib.pyplot as plt\n",
    "import seaborn as sns\n",
    "from sklearn.metrics import accuracy_score\n",
    "from sklearn.metrics import confusion_matrix\n",
    "from sklearn.model_selection import train_test_split\n",
    "from sklearn.preprocessing import StandardScaler\n",
    "from sklearn import svm\n",
    "from sklearn.model_selection import GridSearchCV\n",
    "from sklearn.linear_model import LogisticRegression\n",
    "from sklearn.neighbors import KNeighborsClassifier\n",
    "from sklearn.ensemble import RandomForestClassifier\n",
    "from sklearn.tree import DecisionTreeClassifier\n",
    "from mlxtend.plotting import plot_decision_regions"
   ]
  },
  {
   "cell_type": "markdown",
   "metadata": {},
   "source": [
    "# Load the data sets"
   ]
  },
  {
   "cell_type": "code",
   "execution_count": 2,
   "metadata": {},
   "outputs": [
    {
     "data": {
      "text/html": [
       "<div>\n",
       "<style scoped>\n",
       "    .dataframe tbody tr th:only-of-type {\n",
       "        vertical-align: middle;\n",
       "    }\n",
       "\n",
       "    .dataframe tbody tr th {\n",
       "        vertical-align: top;\n",
       "    }\n",
       "\n",
       "    .dataframe thead th {\n",
       "        text-align: right;\n",
       "    }\n",
       "</style>\n",
       "<table border=\"1\" class=\"dataframe\">\n",
       "  <thead>\n",
       "    <tr style=\"text-align: right;\">\n",
       "      <th></th>\n",
       "      <th>fixed acidity</th>\n",
       "      <th>volatile acidity</th>\n",
       "      <th>citric acid</th>\n",
       "      <th>residual sugar</th>\n",
       "      <th>chlorides</th>\n",
       "      <th>free sulfur dioxide</th>\n",
       "      <th>total sulfur dioxide</th>\n",
       "      <th>density</th>\n",
       "      <th>pH</th>\n",
       "      <th>sulphates</th>\n",
       "      <th>alcohol</th>\n",
       "      <th>quality</th>\n",
       "    </tr>\n",
       "  </thead>\n",
       "  <tbody>\n",
       "    <tr>\n",
       "      <th>0</th>\n",
       "      <td>7.4</td>\n",
       "      <td>0.7</td>\n",
       "      <td>0.0</td>\n",
       "      <td>1.9</td>\n",
       "      <td>0.076</td>\n",
       "      <td>11.0</td>\n",
       "      <td>34.0</td>\n",
       "      <td>0.9978</td>\n",
       "      <td>3.51</td>\n",
       "      <td>0.56</td>\n",
       "      <td>9.4</td>\n",
       "      <td>5</td>\n",
       "    </tr>\n",
       "  </tbody>\n",
       "</table>\n",
       "</div>"
      ],
      "text/plain": [
       "   fixed acidity  volatile acidity  citric acid  residual sugar  chlorides  \\\n",
       "0            7.4               0.7          0.0             1.9      0.076   \n",
       "\n",
       "   free sulfur dioxide  total sulfur dioxide  density    pH  sulphates  \\\n",
       "0                 11.0                  34.0   0.9978  3.51       0.56   \n",
       "\n",
       "   alcohol  quality  \n",
       "0      9.4        5  "
      ]
     },
     "execution_count": 2,
     "metadata": {},
     "output_type": "execute_result"
    }
   ],
   "source": [
    "red_data = pd.read_csv('winequality-red.csv', sep=';')\n",
    "red_data.head(1)"
   ]
  },
  {
   "cell_type": "code",
   "execution_count": 3,
   "metadata": {},
   "outputs": [
    {
     "data": {
      "text/html": [
       "<div>\n",
       "<style scoped>\n",
       "    .dataframe tbody tr th:only-of-type {\n",
       "        vertical-align: middle;\n",
       "    }\n",
       "\n",
       "    .dataframe tbody tr th {\n",
       "        vertical-align: top;\n",
       "    }\n",
       "\n",
       "    .dataframe thead th {\n",
       "        text-align: right;\n",
       "    }\n",
       "</style>\n",
       "<table border=\"1\" class=\"dataframe\">\n",
       "  <thead>\n",
       "    <tr style=\"text-align: right;\">\n",
       "      <th></th>\n",
       "      <th>fixed acidity</th>\n",
       "      <th>volatile acidity</th>\n",
       "      <th>citric acid</th>\n",
       "      <th>residual sugar</th>\n",
       "      <th>chlorides</th>\n",
       "      <th>free sulfur dioxide</th>\n",
       "      <th>total sulfur dioxide</th>\n",
       "      <th>density</th>\n",
       "      <th>pH</th>\n",
       "      <th>sulphates</th>\n",
       "      <th>alcohol</th>\n",
       "      <th>quality</th>\n",
       "    </tr>\n",
       "  </thead>\n",
       "  <tbody>\n",
       "    <tr>\n",
       "      <th>0</th>\n",
       "      <td>7.0</td>\n",
       "      <td>0.27</td>\n",
       "      <td>0.36</td>\n",
       "      <td>20.7</td>\n",
       "      <td>0.045</td>\n",
       "      <td>45.0</td>\n",
       "      <td>170.0</td>\n",
       "      <td>1.001</td>\n",
       "      <td>3.0</td>\n",
       "      <td>0.45</td>\n",
       "      <td>8.8</td>\n",
       "      <td>6</td>\n",
       "    </tr>\n",
       "  </tbody>\n",
       "</table>\n",
       "</div>"
      ],
      "text/plain": [
       "   fixed acidity  volatile acidity  citric acid  residual sugar  chlorides  \\\n",
       "0            7.0              0.27         0.36            20.7      0.045   \n",
       "\n",
       "   free sulfur dioxide  total sulfur dioxide  density   pH  sulphates  \\\n",
       "0                 45.0                 170.0    1.001  3.0       0.45   \n",
       "\n",
       "   alcohol  quality  \n",
       "0      8.8        6  "
      ]
     },
     "execution_count": 3,
     "metadata": {},
     "output_type": "execute_result"
    }
   ],
   "source": [
    "white_data = pd.read_csv('winequality-white.csv', sep=';')\n",
    "white_data.head(1)"
   ]
  },
  {
   "cell_type": "markdown",
   "metadata": {},
   "source": [
    "# Explore the datasets\n",
    "Check for N/A\n",
    "Check the balance"
   ]
  },
  {
   "cell_type": "code",
   "execution_count": 4,
   "metadata": {},
   "outputs": [
    {
     "data": {
      "text/plain": [
       "fixed acidity           False\n",
       "volatile acidity        False\n",
       "citric acid             False\n",
       "residual sugar          False\n",
       "chlorides               False\n",
       "free sulfur dioxide     False\n",
       "total sulfur dioxide    False\n",
       "density                 False\n",
       "pH                      False\n",
       "sulphates               False\n",
       "alcohol                 False\n",
       "quality                 False\n",
       "dtype: bool"
      ]
     },
     "execution_count": 4,
     "metadata": {},
     "output_type": "execute_result"
    }
   ],
   "source": [
    "red_data.isnull().all()"
   ]
  },
  {
   "cell_type": "code",
   "execution_count": 5,
   "metadata": {},
   "outputs": [
    {
     "data": {
      "text/plain": [
       "fixed acidity           False\n",
       "volatile acidity        False\n",
       "citric acid             False\n",
       "residual sugar          False\n",
       "chlorides               False\n",
       "free sulfur dioxide     False\n",
       "total sulfur dioxide    False\n",
       "density                 False\n",
       "pH                      False\n",
       "sulphates               False\n",
       "alcohol                 False\n",
       "quality                 False\n",
       "dtype: bool"
      ]
     },
     "execution_count": 5,
     "metadata": {},
     "output_type": "execute_result"
    }
   ],
   "source": [
    "white_data.isnull().all()"
   ]
  },
  {
   "cell_type": "code",
   "execution_count": 11,
   "metadata": {},
   "outputs": [
    {
     "data": {
      "image/png": "[encoded data removed]",
      "text/plain": [
       "<Figure size 288x576 with 2 Axes>"
      ]
     },
     "metadata": {},
     "output_type": "display_data"
    }
   ],
   "source": [
    "fig, axes = plt.subplots(2,1, figsize=(4,8))\n",
    "sns.countplot(x = 'quality', data = red_data, ax=axes[0])\n",
    "sns.countplot(x = 'quality', data = white_data, ax=axes[1])\n",
    "axes[0].set_title('Count Of Wine\\n Samples Per Quality')\n",
    "axes[1].set_ylabel('Count For White Wine')\n",
    "axes[0].set_ylabel('Count For Red Wine')\n",
    "axes[0].set_xlabel('Quality Score')\n",
    "axes[1].set_xlabel('Quality Score')\n",
    "plt.subplots_adjust(left=0.3)\n",
    "fig.savefig('counts.png')\n",
    "plt.show()"
   ]
  },
  {
   "cell_type": "markdown",
   "metadata": {},
   "source": [
    "# Preprocess the datasets\n",
    "The datasets are very unbalanced so to make it more like classification task we reduce tails a little bit"
   ]
  },
  {
   "cell_type": "code",
   "execution_count": 12,
   "metadata": {},
   "outputs": [],
   "source": [
    "def transform_red(quality):\n",
    "    if quality < 5:\n",
    "        return 4\n",
    "    if quality > 6:\n",
    "        return 7\n",
    "    return quality\n",
    "def transform_white(quality):\n",
    "    if quality < 5:\n",
    "        return 4\n",
    "    if quality > 7:\n",
    "        return 8\n",
    "    return quality"
   ]
  },
  {
   "cell_type": "code",
   "execution_count": 13,
   "metadata": {},
   "outputs": [],
   "source": [
    "red_data['y'] = red_data['quality'].apply(transform_red)\n",
    "white_data['y'] = white_data['quality'].apply(transform_white)"
   ]
  },
  {
   "cell_type": "code",
   "execution_count": 14,
   "metadata": {},
   "outputs": [
    {
     "data": {
      "image/png": "[encoded data removed]",
      "text/plain": [
       "<Figure size 432x288 with 1 Axes>"
      ]
     },
     "metadata": {},
     "output_type": "display_data"
    }
   ],
   "source": [
    "ax = sns.countplot(x = 'y', data = white_data)"
   ]
  },
  {
   "cell_type": "markdown",
   "metadata": {},
   "source": [
    "Set up train and test data"
   ]
  },
  {
   "cell_type": "code",
   "execution_count": 15,
   "metadata": {},
   "outputs": [
    {
     "name": "stdout",
     "output_type": "stream",
     "text": [
      "(1599, 13)\n",
      "(1599,)\n",
      "(1599, 11)\n"
     ]
    }
   ],
   "source": [
    "y_red = red_data['y']\n",
    "features = red_data.columns[:-2]\n",
    "X_red = red_data[features]\n",
    "print(red_data.shape)\n",
    "print(y_red.shape)\n",
    "print(X_red.shape)"
   ]
  },
  {
   "cell_type": "code",
   "execution_count": 16,
   "metadata": {},
   "outputs": [
    {
     "data": {
      "text/plain": [
       "((1119, 11), (1119,))"
      ]
     },
     "execution_count": 16,
     "metadata": {},
     "output_type": "execute_result"
    }
   ],
   "source": [
    "X_r_train, X_r_test, y_r_train, y_r_test = train_test_split(X_red, y_red, test_size=0.3, random_state=111, stratify=y_red)\n",
    "X_r_train.shape, y_r_train.shape"
   ]
  },
  {
   "cell_type": "code",
   "execution_count": 17,
   "metadata": {},
   "outputs": [
    {
     "data": {
      "text/plain": [
       "((3428, 11), (3428,))"
      ]
     },
     "execution_count": 17,
     "metadata": {},
     "output_type": "execute_result"
    }
   ],
   "source": [
    "y_white = white_data['y']\n",
    "features = white_data.columns[:-2]\n",
    "X_white = white_data[features]\n",
    "X_w_train, X_w_test, y_w_train, y_w_test = train_test_split(X_white, y_white, test_size=0.3, random_state=111, stratify=y_white)\n",
    "X_w_train.shape, y_w_train.shape"
   ]
  },
  {
   "cell_type": "markdown",
   "metadata": {},
   "source": [
    "## Let's try it with every feature available\n",
    "\n"
   ]
  },
  {
   "cell_type": "code",
   "execution_count": 18,
   "metadata": {},
   "outputs": [],
   "source": [
    "result= pd.DataFrame(columns=['Classifier', 'Scaled', 'best_params', 'best_score', 'test_score'])"
   ]
  },
  {
   "cell_type": "markdown",
   "metadata": {},
   "source": [
    "We are going to try several built-in classifiers on our datasets and use grid-search technique using 5 fold Cross-Validation to find optimal global parameters. \n",
    "Each classifier are going to be tryed on raw data and on scaled one to see what difference is there if any."
   ]
  },
  {
   "cell_type": "code",
   "execution_count": 19,
   "metadata": {},
   "outputs": [],
   "source": [
    "classifiers = [svm.SVC(), svm.SVC(), LogisticRegression(), KNeighborsClassifier(), DecisionTreeClassifier(),\n",
    "               RandomForestClassifier()]\n",
    "names = ['Linear SVM', 'RBF SVM', 'Logistic Regression', 'Nearest Neighbors', 'Decision Tree', 'Random Forest']\n",
    "params =[{'kernel': ['linear'], 'C': [0.5, 1, 5]},\n",
    "         {'kernel':['rbf'], 'C': [0.1, 0.5, 1, 5, 10, 50, 100], 'gamma': [0.05, 0.1, 0.5, 1]},\n",
    "         {'C': [0.1, 0.5, 1, 5, 10, 50, 100]},\n",
    "         {'n_neighbors': range(1, 21), 'leaf_size': range(5, 205, 5)},\n",
    "         {'max_depth': range(1, 102, 5), 'min_samples_split': range(2,11)},\n",
    "         {'max_depth': range(1, 102, 5), 'min_samples_split': range(2,11)}]"
   ]
  },
  {
   "cell_type": "markdown",
   "metadata": {},
   "source": [
    "Define some helper functions"
   ]
  },
  {
   "cell_type": "code",
   "execution_count": 74,
   "metadata": {},
   "outputs": [],
   "source": [
    "def fitGlobalParams(X_train, y_train, X_test, y_test, name, parameters, svr, scaled):\n",
    "    clf = GridSearchCV(svr, parameters, cv=5, return_train_score=True)\n",
    "    clf.fit(X_train, y_train)\n",
    "    print('********************************************')\n",
    "    print(name + 'scaled = ' + str(scaled))\n",
    "    print('********************************************')\n",
    "    means = clf.cv_results_['mean_test_score']\n",
    "    stds = clf.cv_results_['std_test_score']\n",
    "    #for mean, std, params in zip(means, stds, clf.cv_results_['params']):\n",
    "    #    print(\"%0.3f (+/-%0.03f) for %r\" % (mean, std * 2, params))\n",
    "    print('Best parameters:', clf.best_params_)\n",
    "    print(clf.best_score_, accuracy_score(y_test, clf.predict(X_test)))\n",
    "    result.loc[result.shape[0]]=[name, scaled, clf.best_params_,\n",
    "                                 clf.best_score_, accuracy_score(y_test, clf.predict(X_test))]\n",
    "\n",
    "def fitGP(X_train, y_train, X_test, y_test, name, parameters, svr):\n",
    "    fitGlobalParams(X_train, y_train, X_test, y_test, name, parameters, svr, False)\n",
    "    fitGlobalParams(StandardScaler().fit_transform(X_train), y_train, StandardScaler().fit_transform(X_test)\n",
    "                    , y_test, name, parameters, svr, True)"
   ]
  },
  {
   "cell_type": "code",
   "execution_count": 21,
   "metadata": {},
   "outputs": [],
   "source": [
    "def fitGPred(name, parameters, svr):\n",
    "    fitGP(X_r_train, y_r_train, X_r_test, y_r_test, name, parameters, svr)"
   ]
  },
  {
   "cell_type": "code",
   "execution_count": 22,
   "metadata": {},
   "outputs": [],
   "source": [
    "def fitGPwhite(name, parameters, svr):\n",
    "    fitGP(X_w_train, y_w_train, X_w_test, y_w_test, name, parameters, svr)"
   ]
  },
  {
   "cell_type": "code",
   "execution_count": 75,
   "metadata": {},
   "outputs": [
    {
     "name": "stdout",
     "output_type": "stream",
     "text": [
      "********************************************\n",
      "Linear SVMscaled = False\n",
      "********************************************\n",
      "Best parameters: {'C': 5, 'kernel': 'linear'}\n",
      "0.5880250223413762 0.5583333333333333\n",
      "********************************************\n",
      "Linear SVMscaled = True\n",
      "********************************************\n",
      "Best parameters: {'C': 0.5, 'kernel': 'linear'}\n",
      "0.5933869526362824 0.5583333333333333\n",
      "********************************************\n",
      "RBF SVMscaled = False\n",
      "********************************************\n",
      "Best parameters: {'C': 50, 'gamma': 0.5, 'kernel': 'rbf'}\n",
      "0.5621090259159964 0.5916666666666667\n",
      "********************************************\n",
      "RBF SVMscaled = True\n",
      "********************************************\n",
      "Best parameters: {'C': 5, 'gamma': 0.5, 'kernel': 'rbf'}\n",
      "0.6407506702412868 0.6333333333333333\n",
      "********************************************\n",
      "Logistic Regressionscaled = False\n",
      "********************************************\n",
      "Best parameters: {'C': 0.5}\n",
      "0.5889186773905273 0.5833333333333334\n",
      "********************************************\n",
      "Logistic Regressionscaled = True\n",
      "********************************************\n",
      "Best parameters: {'C': 5}\n",
      "0.5969615728328865 0.5729166666666666\n",
      "********************************************\n",
      "Nearest Neighborsscaled = False\n",
      "********************************************\n",
      "Best parameters: {'leaf_size': 5, 'n_neighbors': 1}\n",
      "0.5424486148346738 0.5833333333333334\n",
      "********************************************\n",
      "Nearest Neighborsscaled = True\n",
      "********************************************\n",
      "Best parameters: {'leaf_size': 5, 'n_neighbors': 1}\n",
      "0.6157283288650581 0.6083333333333333\n",
      "********************************************\n",
      "Decision Treescaled = False\n",
      "********************************************\n",
      "Best parameters: {'max_depth': 66, 'min_samples_split': 5}\n",
      "0.5844504021447721 0.5979166666666667\n",
      "********************************************\n",
      "Decision Treescaled = True\n",
      "********************************************\n",
      "Best parameters: {'max_depth': 41, 'min_samples_split': 2}\n",
      "0.5862377122430742 0.5541666666666667\n",
      "********************************************\n",
      "Random Forestscaled = False\n",
      "********************************************\n",
      "Best parameters: {'max_depth': 81, 'min_samples_split': 2}\n",
      "0.6657730116175157 0.6395833333333333\n",
      "********************************************\n",
      "Random Forestscaled = True\n",
      "********************************************\n",
      "Best parameters: {'max_depth': 31, 'min_samples_split': 2}\n",
      "0.6702412868632708 0.5958333333333333\n"
     ]
    }
   ],
   "source": [
    "for name, svr, param in zip(names, classifiers, params):\n",
    "    fitGPred(name, param, svr)"
   ]
  },
  {
   "cell_type": "markdown",
   "metadata": {},
   "source": [
    "Saving results on red wines"
   ]
  },
  {
   "cell_type": "code",
   "execution_count": 76,
   "metadata": {},
   "outputs": [],
   "source": [
    "result_red = result.copy()"
   ]
  },
  {
   "cell_type": "code",
   "execution_count": 77,
   "metadata": {},
   "outputs": [],
   "source": [
    "result = result.iloc[0:0]"
   ]
  },
  {
   "cell_type": "code",
   "execution_count": 78,
   "metadata": {},
   "outputs": [
    {
     "data": {
      "text/html": [
       "<div>\n",
       "<style scoped>\n",
       "    .dataframe tbody tr th:only-of-type {\n",
       "        vertical-align: middle;\n",
       "    }\n",
       "\n",
       "    .dataframe tbody tr th {\n",
       "        vertical-align: top;\n",
       "    }\n",
       "\n",
       "    .dataframe thead th {\n",
       "        text-align: right;\n",
       "    }\n",
       "</style>\n",
       "<table border=\"1\" class=\"dataframe\">\n",
       "  <thead>\n",
       "    <tr style=\"text-align: right;\">\n",
       "      <th></th>\n",
       "      <th>Classifier</th>\n",
       "      <th>Scaled</th>\n",
       "      <th>best_params</th>\n",
       "      <th>best_score</th>\n",
       "      <th>test_score</th>\n",
       "    </tr>\n",
       "  </thead>\n",
       "  <tbody>\n",
       "    <tr>\n",
       "      <th>0</th>\n",
       "      <td>Linear SVM</td>\n",
       "      <td>False</td>\n",
       "      <td>{'C': 5, 'kernel': 'linear'}</td>\n",
       "      <td>0.588025</td>\n",
       "      <td>0.558333</td>\n",
       "    </tr>\n",
       "    <tr>\n",
       "      <th>1</th>\n",
       "      <td>Linear SVM</td>\n",
       "      <td>True</td>\n",
       "      <td>{'C': 0.5, 'kernel': 'linear'}</td>\n",
       "      <td>0.593387</td>\n",
       "      <td>0.558333</td>\n",
       "    </tr>\n",
       "    <tr>\n",
       "      <th>2</th>\n",
       "      <td>RBF SVM</td>\n",
       "      <td>False</td>\n",
       "      <td>{'C': 50, 'gamma': 0.5, 'kernel': 'rbf'}</td>\n",
       "      <td>0.562109</td>\n",
       "      <td>0.591667</td>\n",
       "    </tr>\n",
       "    <tr>\n",
       "      <th>3</th>\n",
       "      <td>RBF SVM</td>\n",
       "      <td>True</td>\n",
       "      <td>{'C': 5, 'gamma': 0.5, 'kernel': 'rbf'}</td>\n",
       "      <td>0.640751</td>\n",
       "      <td>0.633333</td>\n",
       "    </tr>\n",
       "    <tr>\n",
       "      <th>4</th>\n",
       "      <td>Logistic Regression</td>\n",
       "      <td>False</td>\n",
       "      <td>{'C': 0.5}</td>\n",
       "      <td>0.588919</td>\n",
       "      <td>0.583333</td>\n",
       "    </tr>\n",
       "    <tr>\n",
       "      <th>5</th>\n",
       "      <td>Logistic Regression</td>\n",
       "      <td>True</td>\n",
       "      <td>{'C': 5}</td>\n",
       "      <td>0.596962</td>\n",
       "      <td>0.572917</td>\n",
       "    </tr>\n",
       "    <tr>\n",
       "      <th>6</th>\n",
       "      <td>Nearest Neighbors</td>\n",
       "      <td>False</td>\n",
       "      <td>{'leaf_size': 5, 'n_neighbors': 1}</td>\n",
       "      <td>0.542449</td>\n",
       "      <td>0.583333</td>\n",
       "    </tr>\n",
       "    <tr>\n",
       "      <th>7</th>\n",
       "      <td>Nearest Neighbors</td>\n",
       "      <td>True</td>\n",
       "      <td>{'leaf_size': 5, 'n_neighbors': 1}</td>\n",
       "      <td>0.615728</td>\n",
       "      <td>0.608333</td>\n",
       "    </tr>\n",
       "    <tr>\n",
       "      <th>8</th>\n",
       "      <td>Decision Tree</td>\n",
       "      <td>False</td>\n",
       "      <td>{'max_depth': 66, 'min_samples_split': 5}</td>\n",
       "      <td>0.584450</td>\n",
       "      <td>0.597917</td>\n",
       "    </tr>\n",
       "    <tr>\n",
       "      <th>9</th>\n",
       "      <td>Decision Tree</td>\n",
       "      <td>True</td>\n",
       "      <td>{'max_depth': 41, 'min_samples_split': 2}</td>\n",
       "      <td>0.586238</td>\n",
       "      <td>0.554167</td>\n",
       "    </tr>\n",
       "    <tr>\n",
       "      <th>10</th>\n",
       "      <td>Random Forest</td>\n",
       "      <td>False</td>\n",
       "      <td>{'max_depth': 81, 'min_samples_split': 2}</td>\n",
       "      <td>0.665773</td>\n",
       "      <td>0.639583</td>\n",
       "    </tr>\n",
       "    <tr>\n",
       "      <th>11</th>\n",
       "      <td>Random Forest</td>\n",
       "      <td>True</td>\n",
       "      <td>{'max_depth': 31, 'min_samples_split': 2}</td>\n",
       "      <td>0.670241</td>\n",
       "      <td>0.595833</td>\n",
       "    </tr>\n",
       "  </tbody>\n",
       "</table>\n",
       "</div>"
      ],
      "text/plain": [
       "             Classifier Scaled                                best_params  \\\n",
       "0            Linear SVM  False               {'C': 5, 'kernel': 'linear'}   \n",
       "1            Linear SVM   True             {'C': 0.5, 'kernel': 'linear'}   \n",
       "2               RBF SVM  False   {'C': 50, 'gamma': 0.5, 'kernel': 'rbf'}   \n",
       "3               RBF SVM   True    {'C': 5, 'gamma': 0.5, 'kernel': 'rbf'}   \n",
       "4   Logistic Regression  False                                 {'C': 0.5}   \n",
       "5   Logistic Regression   True                                   {'C': 5}   \n",
       "6     Nearest Neighbors  False         {'leaf_size': 5, 'n_neighbors': 1}   \n",
       "7     Nearest Neighbors   True         {'leaf_size': 5, 'n_neighbors': 1}   \n",
       "8         Decision Tree  False  {'max_depth': 66, 'min_samples_split': 5}   \n",
       "9         Decision Tree   True  {'max_depth': 41, 'min_samples_split': 2}   \n",
       "10        Random Forest  False  {'max_depth': 81, 'min_samples_split': 2}   \n",
       "11        Random Forest   True  {'max_depth': 31, 'min_samples_split': 2}   \n",
       "\n",
       "    best_score  test_score  \n",
       "0     0.588025    0.558333  \n",
       "1     0.593387    0.558333  \n",
       "2     0.562109    0.591667  \n",
       "3     0.640751    0.633333  \n",
       "4     0.588919    0.583333  \n",
       "5     0.596962    0.572917  \n",
       "6     0.542449    0.583333  \n",
       "7     0.615728    0.608333  \n",
       "8     0.584450    0.597917  \n",
       "9     0.586238    0.554167  \n",
       "10    0.665773    0.639583  \n",
       "11    0.670241    0.595833  "
      ]
     },
     "execution_count": 78,
     "metadata": {},
     "output_type": "execute_result"
    }
   ],
   "source": [
    "result_red"
   ]
  },
  {
   "cell_type": "markdown",
   "metadata": {},
   "source": [
    "Now let's run the same tests on white wine"
   ]
  },
  {
   "cell_type": "code",
   "execution_count": 79,
   "metadata": {},
   "outputs": [
    {
     "name": "stdout",
     "output_type": "stream",
     "text": [
      "********************************************\n",
      "Linear SVMscaled = False\n",
      "********************************************\n",
      "Best parameters: {'C': 0.5, 'kernel': 'linear'}\n",
      "0.5192532088681447 0.5238095238095238\n",
      "********************************************\n",
      "Linear SVMscaled = True\n",
      "********************************************\n",
      "Best parameters: {'C': 1, 'kernel': 'linear'}\n",
      "0.5186697782963827 0.535374149659864\n",
      "********************************************\n",
      "RBF SVMscaled = False\n",
      "********************************************\n",
      "Best parameters: {'C': 1, 'gamma': 0.5, 'kernel': 'rbf'}\n",
      "0.5796382730455076 0.6027210884353742\n",
      "********************************************\n",
      "RBF SVMscaled = True\n",
      "********************************************\n",
      "Best parameters: {'C': 10, 'gamma': 1, 'kernel': 'rbf'}\n",
      "0.617269544924154 0.6401360544217687\n",
      "********************************************\n",
      "Logistic Regressionscaled = False\n",
      "********************************************\n",
      "Best parameters: {'C': 50}\n",
      "0.5242123687281214 0.5414965986394558\n",
      "********************************************\n",
      "Logistic Regressionscaled = True\n",
      "********************************************\n",
      "Best parameters: {'C': 1}\n",
      "0.5282963827304551 0.5428571428571428\n",
      "********************************************\n",
      "Nearest Neighborsscaled = False\n",
      "********************************************\n",
      "Best parameters: {'leaf_size': 5, 'n_neighbors': 1}\n",
      "0.529171528588098 0.5544217687074829\n",
      "********************************************\n",
      "Nearest Neighborsscaled = True\n",
      "********************************************\n",
      "Best parameters: {'leaf_size': 5, 'n_neighbors': 1}\n",
      "0.5828471411901983 0.6346938775510204\n",
      "********************************************\n",
      "Decision Treescaled = False\n",
      "********************************************\n",
      "Best parameters: {'max_depth': 101, 'min_samples_split': 2}\n",
      "0.5650525087514586 0.6231292517006802\n",
      "********************************************\n",
      "Decision Treescaled = True\n",
      "********************************************\n",
      "Best parameters: {'max_depth': 46, 'min_samples_split': 2}\n",
      "0.5644690781796966 0.573469387755102\n",
      "********************************************\n",
      "Random Forestscaled = False\n",
      "********************************************\n",
      "Best parameters: {'max_depth': 56, 'min_samples_split': 2}\n",
      "0.6233955659276547 0.6605442176870748\n",
      "********************************************\n",
      "Random Forestscaled = True\n",
      "********************************************\n",
      "Best parameters: {'max_depth': 61, 'min_samples_split': 2}\n",
      "0.6371061843640606 0.6503401360544218\n"
     ]
    }
   ],
   "source": [
    "for name, svr, param in zip(names, classifiers, params):\n",
    "    fitGPwhite(name, param, svr)"
   ]
  },
  {
   "cell_type": "markdown",
   "metadata": {},
   "source": []
  },
  {
   "cell_type": "code",
   "execution_count": 80,
   "metadata": {},
   "outputs": [
    {
     "data": {
      "text/html": [
       "<div>\n",
       "<style scoped>\n",
       "    .dataframe tbody tr th:only-of-type {\n",
       "        vertical-align: middle;\n",
       "    }\n",
       "\n",
       "    .dataframe tbody tr th {\n",
       "        vertical-align: top;\n",
       "    }\n",
       "\n",
       "    .dataframe thead th {\n",
       "        text-align: right;\n",
       "    }\n",
       "</style>\n",
       "<table border=\"1\" class=\"dataframe\">\n",
       "  <thead>\n",
       "    <tr style=\"text-align: right;\">\n",
       "      <th></th>\n",
       "      <th>Classifier</th>\n",
       "      <th>Scaled</th>\n",
       "      <th>best_params</th>\n",
       "      <th>best_score</th>\n",
       "      <th>test_score</th>\n",
       "    </tr>\n",
       "  </thead>\n",
       "  <tbody>\n",
       "    <tr>\n",
       "      <th>0</th>\n",
       "      <td>Linear SVM</td>\n",
       "      <td>False</td>\n",
       "      <td>{'C': 0.5, 'kernel': 'linear'}</td>\n",
       "      <td>0.519253</td>\n",
       "      <td>0.523810</td>\n",
       "    </tr>\n",
       "    <tr>\n",
       "      <th>1</th>\n",
       "      <td>Linear SVM</td>\n",
       "      <td>True</td>\n",
       "      <td>{'C': 1, 'kernel': 'linear'}</td>\n",
       "      <td>0.518670</td>\n",
       "      <td>0.535374</td>\n",
       "    </tr>\n",
       "    <tr>\n",
       "      <th>2</th>\n",
       "      <td>RBF SVM</td>\n",
       "      <td>False</td>\n",
       "      <td>{'C': 1, 'gamma': 0.5, 'kernel': 'rbf'}</td>\n",
       "      <td>0.579638</td>\n",
       "      <td>0.602721</td>\n",
       "    </tr>\n",
       "    <tr>\n",
       "      <th>3</th>\n",
       "      <td>RBF SVM</td>\n",
       "      <td>True</td>\n",
       "      <td>{'C': 10, 'gamma': 1, 'kernel': 'rbf'}</td>\n",
       "      <td>0.617270</td>\n",
       "      <td>0.640136</td>\n",
       "    </tr>\n",
       "    <tr>\n",
       "      <th>4</th>\n",
       "      <td>Logistic Regression</td>\n",
       "      <td>False</td>\n",
       "      <td>{'C': 50}</td>\n",
       "      <td>0.524212</td>\n",
       "      <td>0.541497</td>\n",
       "    </tr>\n",
       "    <tr>\n",
       "      <th>5</th>\n",
       "      <td>Logistic Regression</td>\n",
       "      <td>True</td>\n",
       "      <td>{'C': 1}</td>\n",
       "      <td>0.528296</td>\n",
       "      <td>0.542857</td>\n",
       "    </tr>\n",
       "    <tr>\n",
       "      <th>6</th>\n",
       "      <td>Nearest Neighbors</td>\n",
       "      <td>False</td>\n",
       "      <td>{'leaf_size': 5, 'n_neighbors': 1}</td>\n",
       "      <td>0.529172</td>\n",
       "      <td>0.554422</td>\n",
       "    </tr>\n",
       "    <tr>\n",
       "      <th>7</th>\n",
       "      <td>Nearest Neighbors</td>\n",
       "      <td>True</td>\n",
       "      <td>{'leaf_size': 5, 'n_neighbors': 1}</td>\n",
       "      <td>0.582847</td>\n",
       "      <td>0.634694</td>\n",
       "    </tr>\n",
       "    <tr>\n",
       "      <th>8</th>\n",
       "      <td>Decision Tree</td>\n",
       "      <td>False</td>\n",
       "      <td>{'max_depth': 101, 'min_samples_split': 2}</td>\n",
       "      <td>0.565053</td>\n",
       "      <td>0.623129</td>\n",
       "    </tr>\n",
       "    <tr>\n",
       "      <th>9</th>\n",
       "      <td>Decision Tree</td>\n",
       "      <td>True</td>\n",
       "      <td>{'max_depth': 46, 'min_samples_split': 2}</td>\n",
       "      <td>0.564469</td>\n",
       "      <td>0.573469</td>\n",
       "    </tr>\n",
       "    <tr>\n",
       "      <th>10</th>\n",
       "      <td>Random Forest</td>\n",
       "      <td>False</td>\n",
       "      <td>{'max_depth': 56, 'min_samples_split': 2}</td>\n",
       "      <td>0.623396</td>\n",
       "      <td>0.660544</td>\n",
       "    </tr>\n",
       "    <tr>\n",
       "      <th>11</th>\n",
       "      <td>Random Forest</td>\n",
       "      <td>True</td>\n",
       "      <td>{'max_depth': 61, 'min_samples_split': 2}</td>\n",
       "      <td>0.637106</td>\n",
       "      <td>0.650340</td>\n",
       "    </tr>\n",
       "  </tbody>\n",
       "</table>\n",
       "</div>"
      ],
      "text/plain": [
       "             Classifier Scaled                                 best_params  \\\n",
       "0            Linear SVM  False              {'C': 0.5, 'kernel': 'linear'}   \n",
       "1            Linear SVM   True                {'C': 1, 'kernel': 'linear'}   \n",
       "2               RBF SVM  False     {'C': 1, 'gamma': 0.5, 'kernel': 'rbf'}   \n",
       "3               RBF SVM   True      {'C': 10, 'gamma': 1, 'kernel': 'rbf'}   \n",
       "4   Logistic Regression  False                                   {'C': 50}   \n",
       "5   Logistic Regression   True                                    {'C': 1}   \n",
       "6     Nearest Neighbors  False          {'leaf_size': 5, 'n_neighbors': 1}   \n",
       "7     Nearest Neighbors   True          {'leaf_size': 5, 'n_neighbors': 1}   \n",
       "8         Decision Tree  False  {'max_depth': 101, 'min_samples_split': 2}   \n",
       "9         Decision Tree   True   {'max_depth': 46, 'min_samples_split': 2}   \n",
       "10        Random Forest  False   {'max_depth': 56, 'min_samples_split': 2}   \n",
       "11        Random Forest   True   {'max_depth': 61, 'min_samples_split': 2}   \n",
       "\n",
       "    best_score  test_score  \n",
       "0     0.519253    0.523810  \n",
       "1     0.518670    0.535374  \n",
       "2     0.579638    0.602721  \n",
       "3     0.617270    0.640136  \n",
       "4     0.524212    0.541497  \n",
       "5     0.528296    0.542857  \n",
       "6     0.529172    0.554422  \n",
       "7     0.582847    0.634694  \n",
       "8     0.565053    0.623129  \n",
       "9     0.564469    0.573469  \n",
       "10    0.623396    0.660544  \n",
       "11    0.637106    0.650340  "
      ]
     },
     "execution_count": 80,
     "metadata": {},
     "output_type": "execute_result"
    }
   ],
   "source": [
    "result_white = result.copy()\n",
    "result = result.iloc[0:0]\n",
    "result_white"
   ]
  },
  {
   "cell_type": "code",
   "execution_count": 26,
   "metadata": {},
   "outputs": [],
   "source": [
    "result_white.to_csv('result_white.csv')\n",
    "result_red.to_csv('result_red.csv')"
   ]
  },
  {
   "cell_type": "markdown",
   "metadata": {},
   "source": [
    "Due to random nature of Decision Tree and Random Forest the results loadad from the csv file could differ slightly from computed above."
   ]
  },
  {
   "cell_type": "code",
   "execution_count": 81,
   "metadata": {},
   "outputs": [
    {
     "data": {
      "text/html": [
       "<div>\n",
       "<style scoped>\n",
       "    .dataframe tbody tr th:only-of-type {\n",
       "        vertical-align: middle;\n",
       "    }\n",
       "\n",
       "    .dataframe tbody tr th {\n",
       "        vertical-align: top;\n",
       "    }\n",
       "\n",
       "    .dataframe thead th {\n",
       "        text-align: right;\n",
       "    }\n",
       "</style>\n",
       "<table border=\"1\" class=\"dataframe\">\n",
       "  <thead>\n",
       "    <tr style=\"text-align: right;\">\n",
       "      <th></th>\n",
       "      <th>Classifier</th>\n",
       "      <th>Scaled</th>\n",
       "      <th>best_params</th>\n",
       "      <th>best_score</th>\n",
       "      <th>test_score</th>\n",
       "    </tr>\n",
       "  </thead>\n",
       "  <tbody>\n",
       "    <tr>\n",
       "      <th>0</th>\n",
       "      <td>Linear SVM</td>\n",
       "      <td>False</td>\n",
       "      <td>{'C': 0.5, 'kernel': 'linear'}</td>\n",
       "      <td>0.519253</td>\n",
       "      <td>0.523810</td>\n",
       "    </tr>\n",
       "    <tr>\n",
       "      <th>1</th>\n",
       "      <td>Linear SVM</td>\n",
       "      <td>True</td>\n",
       "      <td>{'C': 1, 'kernel': 'linear'}</td>\n",
       "      <td>0.518670</td>\n",
       "      <td>0.535374</td>\n",
       "    </tr>\n",
       "    <tr>\n",
       "      <th>2</th>\n",
       "      <td>RBF SVM</td>\n",
       "      <td>False</td>\n",
       "      <td>{'C': 1, 'gamma': 0.5, 'kernel': 'rbf'}</td>\n",
       "      <td>0.579638</td>\n",
       "      <td>0.602721</td>\n",
       "    </tr>\n",
       "    <tr>\n",
       "      <th>3</th>\n",
       "      <td>RBF SVM</td>\n",
       "      <td>True</td>\n",
       "      <td>{'C': 10, 'gamma': 1, 'kernel': 'rbf'}</td>\n",
       "      <td>0.617270</td>\n",
       "      <td>0.640136</td>\n",
       "    </tr>\n",
       "    <tr>\n",
       "      <th>4</th>\n",
       "      <td>Logistic Regression</td>\n",
       "      <td>False</td>\n",
       "      <td>{'C': 50}</td>\n",
       "      <td>0.524212</td>\n",
       "      <td>0.541497</td>\n",
       "    </tr>\n",
       "    <tr>\n",
       "      <th>5</th>\n",
       "      <td>Logistic Regression</td>\n",
       "      <td>True</td>\n",
       "      <td>{'C': 1}</td>\n",
       "      <td>0.528296</td>\n",
       "      <td>0.542857</td>\n",
       "    </tr>\n",
       "    <tr>\n",
       "      <th>6</th>\n",
       "      <td>Nearest Neighbors</td>\n",
       "      <td>False</td>\n",
       "      <td>{'leaf_size': 5, 'n_neighbors': 1}</td>\n",
       "      <td>0.529172</td>\n",
       "      <td>0.554422</td>\n",
       "    </tr>\n",
       "    <tr>\n",
       "      <th>7</th>\n",
       "      <td>Nearest Neighbors</td>\n",
       "      <td>True</td>\n",
       "      <td>{'leaf_size': 5, 'n_neighbors': 1}</td>\n",
       "      <td>0.582847</td>\n",
       "      <td>0.634694</td>\n",
       "    </tr>\n",
       "    <tr>\n",
       "      <th>8</th>\n",
       "      <td>Decision Tree</td>\n",
       "      <td>False</td>\n",
       "      <td>{'max_depth': 101, 'min_samples_split': 2}</td>\n",
       "      <td>0.563886</td>\n",
       "      <td>0.617687</td>\n",
       "    </tr>\n",
       "    <tr>\n",
       "      <th>9</th>\n",
       "      <td>Decision Tree</td>\n",
       "      <td>True</td>\n",
       "      <td>{'max_depth': 71, 'min_samples_split': 2}</td>\n",
       "      <td>0.565928</td>\n",
       "      <td>0.575510</td>\n",
       "    </tr>\n",
       "    <tr>\n",
       "      <th>10</th>\n",
       "      <td>Random Forest</td>\n",
       "      <td>False</td>\n",
       "      <td>{'max_depth': 31, 'min_samples_split': 2}</td>\n",
       "      <td>0.623979</td>\n",
       "      <td>0.655102</td>\n",
       "    </tr>\n",
       "    <tr>\n",
       "      <th>11</th>\n",
       "      <td>Random Forest</td>\n",
       "      <td>True</td>\n",
       "      <td>{'max_depth': 56, 'min_samples_split': 5}</td>\n",
       "      <td>0.630397</td>\n",
       "      <td>0.624490</td>\n",
       "    </tr>\n",
       "  </tbody>\n",
       "</table>\n",
       "</div>"
      ],
      "text/plain": [
       "             Classifier  Scaled                                 best_params  \\\n",
       "0            Linear SVM   False              {'C': 0.5, 'kernel': 'linear'}   \n",
       "1            Linear SVM    True                {'C': 1, 'kernel': 'linear'}   \n",
       "2               RBF SVM   False     {'C': 1, 'gamma': 0.5, 'kernel': 'rbf'}   \n",
       "3               RBF SVM    True      {'C': 10, 'gamma': 1, 'kernel': 'rbf'}   \n",
       "4   Logistic Regression   False                                   {'C': 50}   \n",
       "5   Logistic Regression    True                                    {'C': 1}   \n",
       "6     Nearest Neighbors   False          {'leaf_size': 5, 'n_neighbors': 1}   \n",
       "7     Nearest Neighbors    True          {'leaf_size': 5, 'n_neighbors': 1}   \n",
       "8         Decision Tree   False  {'max_depth': 101, 'min_samples_split': 2}   \n",
       "9         Decision Tree    True   {'max_depth': 71, 'min_samples_split': 2}   \n",
       "10        Random Forest   False   {'max_depth': 31, 'min_samples_split': 2}   \n",
       "11        Random Forest    True   {'max_depth': 56, 'min_samples_split': 5}   \n",
       "\n",
       "    best_score  test_score  \n",
       "0     0.519253    0.523810  \n",
       "1     0.518670    0.535374  \n",
       "2     0.579638    0.602721  \n",
       "3     0.617270    0.640136  \n",
       "4     0.524212    0.541497  \n",
       "5     0.528296    0.542857  \n",
       "6     0.529172    0.554422  \n",
       "7     0.582847    0.634694  \n",
       "8     0.563886    0.617687  \n",
       "9     0.565928    0.575510  \n",
       "10    0.623979    0.655102  \n",
       "11    0.630397    0.624490  "
      ]
     },
     "execution_count": 81,
     "metadata": {},
     "output_type": "execute_result"
    }
   ],
   "source": [
    "result_red = pd.read_csv('result_red.csv', index_col=0)\n",
    "result_white = pd.read_csv('result_white.csv', index_col=0)\n",
    "result_white"
   ]
  },
  {
   "cell_type": "code",
   "execution_count": 82,
   "metadata": {},
   "outputs": [],
   "source": [
    "def get_score_table(result):\n",
    "    r_scaled = result[result['Scaled']].copy()\n",
    "    r_scaled = r_scaled.drop(['Scaled', 'best_params', 'best_score'], axis=1)\n",
    "    r_not_scaled = result[(result['Scaled'] == False)].copy()\n",
    "    r_not_scaled = r_not_scaled.drop(['Scaled', 'best_params', 'best_score'], axis=1)\n",
    "    r_scaled.columns = ['Classifier', 'Test Scores for\\n Normalized Data']\n",
    "    r_not_scaled.columns = ['Classifier', 'Test Scores for\\n Non Normalized Data']\n",
    "    r = r_scaled.merge(r_not_scaled, on='Classifier', how='inner')\n",
    "    r = r.set_index('Classifier')\n",
    "    return r"
   ]
  },
  {
   "cell_type": "code",
   "execution_count": 83,
   "metadata": {},
   "outputs": [
    {
     "data": {
      "text/html": [
       "<div>\n",
       "<style scoped>\n",
       "    .dataframe tbody tr th:only-of-type {\n",
       "        vertical-align: middle;\n",
       "    }\n",
       "\n",
       "    .dataframe tbody tr th {\n",
       "        vertical-align: top;\n",
       "    }\n",
       "\n",
       "    .dataframe thead th {\n",
       "        text-align: right;\n",
       "    }\n",
       "</style>\n",
       "<table border=\"1\" class=\"dataframe\">\n",
       "  <thead>\n",
       "    <tr style=\"text-align: right;\">\n",
       "      <th></th>\n",
       "      <th>Test Scores for\n",
       " Normalized Data</th>\n",
       "      <th>Test Scores for\n",
       " Non Normalized Data</th>\n",
       "    </tr>\n",
       "    <tr>\n",
       "      <th>Classifier</th>\n",
       "      <th></th>\n",
       "      <th></th>\n",
       "    </tr>\n",
       "  </thead>\n",
       "  <tbody>\n",
       "    <tr>\n",
       "      <th>Linear SVM</th>\n",
       "      <td>0.558333</td>\n",
       "      <td>0.558333</td>\n",
       "    </tr>\n",
       "    <tr>\n",
       "      <th>RBF SVM</th>\n",
       "      <td>0.633333</td>\n",
       "      <td>0.591667</td>\n",
       "    </tr>\n",
       "    <tr>\n",
       "      <th>Logistic Regression</th>\n",
       "      <td>0.572917</td>\n",
       "      <td>0.583333</td>\n",
       "    </tr>\n",
       "    <tr>\n",
       "      <th>Nearest Neighbors</th>\n",
       "      <td>0.608333</td>\n",
       "      <td>0.583333</td>\n",
       "    </tr>\n",
       "    <tr>\n",
       "      <th>Decision Tree</th>\n",
       "      <td>0.535417</td>\n",
       "      <td>0.622917</td>\n",
       "    </tr>\n",
       "    <tr>\n",
       "      <th>Random Forest</th>\n",
       "      <td>0.618750</td>\n",
       "      <td>0.635417</td>\n",
       "    </tr>\n",
       "  </tbody>\n",
       "</table>\n",
       "</div>"
      ],
      "text/plain": [
       "                     Test Scores for\\n Normalized Data  \\\n",
       "Classifier                                               \n",
       "Linear SVM                                    0.558333   \n",
       "RBF SVM                                       0.633333   \n",
       "Logistic Regression                           0.572917   \n",
       "Nearest Neighbors                             0.608333   \n",
       "Decision Tree                                 0.535417   \n",
       "Random Forest                                 0.618750   \n",
       "\n",
       "                     Test Scores for\\n Non Normalized Data  \n",
       "Classifier                                                  \n",
       "Linear SVM                                        0.558333  \n",
       "RBF SVM                                           0.591667  \n",
       "Logistic Regression                               0.583333  \n",
       "Nearest Neighbors                                 0.583333  \n",
       "Decision Tree                                     0.622917  \n",
       "Random Forest                                     0.635417  "
      ]
     },
     "execution_count": 83,
     "metadata": {},
     "output_type": "execute_result"
    }
   ],
   "source": [
    "get_score_table(result_red)"
   ]
  },
  {
   "cell_type": "code",
   "execution_count": 84,
   "metadata": {},
   "outputs": [
    {
     "data": {
      "image/png": "[encoded data removed]",
      "text/plain": [
       "<Figure size 1008x360 with 4 Axes>"
      ]
     },
     "metadata": {},
     "output_type": "display_data"
    }
   ],
   "source": [
    "rr = get_score_table(result_red)\n",
    "rw = get_score_table(result_white)\n",
    "fig, axes = plt.subplots(1,2, figsize=(14,5))\n",
    "sns.heatmap(rr, annot=True, cmap='Blues', ax=axes[0])\n",
    "sns.heatmap(rw, annot=True, cmap='Blues', ax=axes[1])\n",
    "axes[0].set_title('Classifiers Results On Red Wine Data')\n",
    "axes[1].set_title('Classifiers Results On Wight Wine Data')\n",
    "plt.subplots_adjust(wspace=0.5, top=0.80, bottom=0.2)\n",
    "fig.suptitle('Aggregated results of standard classifiers', fontweight='bold', size=18)\n",
    "fig.savefig('test_results.png')\n",
    "plt.show()"
   ]
  },
  {
   "cell_type": "markdown",
   "metadata": {},
   "source": [
    "As expected we can see Standardization improving results for Support Vector Machine and Nearest Neighbor Classifiers and have no impact on tree based classifiers like Decision Tree and Random Forest.\n",
    "Two classifiers have shown good results for both datasets: RBF SVM and Random Forest. Let's work with them a little bit more.\n",
    "(Nearest neighbor also gave good result but only with n_neighbors = 1 thus it not looks very promising)"
   ]
  },
  {
   "cell_type": "code",
   "execution_count": 85,
   "metadata": {},
   "outputs": [],
   "source": [
    "rfcWhite = RandomForestClassifier(max_depth=31, min_samples_split=2, random_state=13)\n",
    "rfcRed = RandomForestClassifier(max_depth=41, min_samples_split=5, random_state=13)\n",
    "svmWhite = svm.SVC(C=10, gamma=1, kernel='rbf')\n",
    "svmRed = svm.SVC(C=5, gamma=0.5, kernel='rbf')\n",
    "nnWhite = KNeighborsClassifier(leaf_size=5, n_neighbors=1)\n",
    "nnRed = KNeighborsClassifier(leaf_size=5, n_neighbors=1)"
   ]
  },
  {
   "cell_type": "code",
   "execution_count": 86,
   "metadata": {},
   "outputs": [
    {
     "name": "stdout",
     "output_type": "stream",
     "text": [
      "0.6428571428571429 0.6401360544217687 0.6346938775510204\n",
      "0.625 0.6333333333333333 0.6083333333333333\n"
     ]
    }
   ],
   "source": [
    "rfcWhite.fit(X_w_train, y_w_train)\n",
    "rfcRed.fit(X_r_train, y_r_train)\n",
    "# We are going to need Scaled data for SVM Classifier:\n",
    "X_w_train_scaled = StandardScaler().fit_transform(X_w_train)\n",
    "X_w_test_scaled = StandardScaler().fit_transform(X_w_test)\n",
    "X_r_train_scaled = StandardScaler().fit_transform(X_r_train)\n",
    "X_r_test_scaled = StandardScaler().fit_transform(X_r_test)\n",
    "\n",
    "svmWhite.fit(X_w_train_scaled, y_w_train)\n",
    "svmRed.fit(X_r_train_scaled, y_r_train)\n",
    "nnWhite.fit(X_w_train_scaled, y_w_train)\n",
    "nnRed.fit(X_r_train_scaled, y_r_train)\n",
    "\n",
    "print(rfcWhite.score(X_w_test, y_w_test), svmWhite.score(X_w_test_scaled, y_w_test), nnWhite.score(X_w_test_scaled, y_w_test))\n",
    "print(rfcRed.score(X_r_test, y_r_test), svmRed.score(X_r_test_scaled, y_r_test), nnRed.score(X_r_test_scaled, y_r_test))"
   ]
  },
  {
   "cell_type": "markdown",
   "metadata": {},
   "source": [
    "Thus we have 3 decent classifiers for our datasets. All of them based on different approaches in machine learning techniques: Support Vector Machine, Decision Trees and Nearest Neighbors. It looks obvious to suggest that there could be a way to benefit from this fact and we will try the simple voting approach.\n",
    "Our voteClassifier going to choose median of 3 predictions based on SVM, Random Forest and Nearest Neighbors.\n",
    "\n",
    "So for white wine:"
   ]
  },
  {
   "cell_type": "code",
   "execution_count": 87,
   "metadata": {},
   "outputs": [],
   "source": [
    "def vote_white(X):\n",
    "    Y = pd.DataFrame()\n",
    "    Y['rf'] = rfcWhite.predict(X)\n",
    "    Y['svm'] = svmWhite.predict(StandardScaler().fit_transform(X))\n",
    "    Y['nn'] = nnWhite.predict(StandardScaler().fit_transform(X))\n",
    "    return np.array(Y.median(axis=1).apply(lambda x: int(x)))\n",
    "\n",
    "def vote_red(X):\n",
    "    Y = pd.DataFrame()\n",
    "    Y['rf'] = rfcRed.predict(X)\n",
    "    Y['svm'] = svmRed.predict(StandardScaler().fit_transform(X))\n",
    "    Y['nn'] = nnRed.predict(StandardScaler().fit_transform(X))\n",
    "    return np.array(Y.median(axis=1).apply(lambda x: int(x)))"
   ]
  },
  {
   "cell_type": "code",
   "execution_count": 88,
   "metadata": {},
   "outputs": [
    {
     "data": {
      "text/plain": [
       "(0.6646258503401361, 0.6416666666666667)"
      ]
     },
     "execution_count": 88,
     "metadata": {},
     "output_type": "execute_result"
    }
   ],
   "source": [
    "accuracy_score(y_w_test, vote_white(X_w_test)), accuracy_score(y_r_test, vote_red(X_r_test))"
   ]
  },
  {
   "cell_type": "markdown",
   "metadata": {},
   "source": [
    "We got better score for voteClassifier comparing to any of basis classifiers. But the difference not that big and could be just random event. Because there were non deterministic processes envolved in setting up training-testing datasets, tuning of random forest and defining the global parameters through grid-search technique. "
   ]
  },
  {
   "cell_type": "markdown",
   "metadata": {},
   "source": [
    "# Statistical evaluation of classifiers\n",
    "\n",
    "Let's do standard statistical thing when dealing with stochastic processes and given that we chose strict algorithm of getting scores for each of the classifiers we are going to replicate this process many times and look at statistical measures of our statistics."
   ]
  },
  {
   "cell_type": "code",
   "execution_count": 89,
   "metadata": {},
   "outputs": [],
   "source": [
    "#Define lists where we're going to accumulate statistic values\n",
    "rf_score = []\n",
    "svm_score = []\n",
    "nn_score = []\n",
    "mv_score = [] #stands for our median voting classifier\n",
    "#rf_best_params = []\n",
    "#svm_best_params = []\n",
    "predictions = pd.DataFrame()"
   ]
  },
  {
   "cell_type": "markdown",
   "metadata": {},
   "source": [
    "To reduce computational time we shorten list of params in line with a few tests (left out of this notebook)"
   ]
  },
  {
   "cell_type": "code",
   "execution_count": 90,
   "metadata": {},
   "outputs": [],
   "source": [
    "rf_params = {'max_depth': range(20, 101, 5), 'min_samples_split': range(2,8)}\n",
    "svm_params = {'kernel':['rbf'], 'C': [1, 5, 10, 50], 'gamma': [0.5, 1]}"
   ]
  },
  {
   "cell_type": "code",
   "execution_count": 91,
   "metadata": {},
   "outputs": [],
   "source": [
    "def get_scores(X, y):\n",
    "    X_train, X_test, y_train, y_test = train_test_split(X, y, test_size=0.3, stratify=y)\n",
    "    X_train_scaled = StandardScaler().fit_transform(X_train)\n",
    "    X_test_scaled = StandardScaler().fit_transform(X_test)\n",
    "    clf_svm = GridSearchCV(svm.SVC(), svm_params, cv=5, return_train_score=True)\n",
    "    clf_svm.fit(X_train_scaled, y_train)\n",
    "    predictions['svm'] = clf_svm.predict(X_test_scaled)\n",
    "    svm_score.append(accuracy_score(y_test, predictions['svm']))\n",
    "    #svm_best_params.append(clf_svm.best_params_)\n",
    "    clf_rf = GridSearchCV(RandomForestClassifier(), rf_params, cv=5, return_train_score=True)\n",
    "    clf_rf.fit(X_train, y_train)\n",
    "    predictions['rf'] = clf_rf.predict(X_test)\n",
    "    rf_score.append(accuracy_score(y_test, predictions['rf']))\n",
    "    #rf_best_params.append(clf_rf.best_params_)\n",
    "    clf_nn = KNeighborsClassifier(leaf_size=5, n_neighbors=1)\n",
    "    clf_nn.fit(X_train_scaled, y_train)\n",
    "    predictions['nn'] = clf_nn.predict(X_test_scaled)\n",
    "    nn_score.append(accuracy_score(y_test, predictions['nn']))\n",
    "    mv_score.append(accuracy_score(y_test, np.array(predictions.median(axis=1).apply(lambda x: int(x)))))"
   ]
  },
  {
   "cell_type": "code",
   "execution_count": 27,
   "metadata": {},
   "outputs": [
    {
     "name": "stdout",
     "output_type": "stream",
     "text": [
      "0: time spent: 67.511934 10: time spent: 81.862915 20: time spent: 81.896749 30: time spent: 82.578034 40: time spent: 82.655424 50: time spent: 80.448173 60: time spent: 67.480281 70: time spent: 67.386512 80: time spent: 66.710976 90: time spent: 67.224641 100: time spent: 66.638305 110: time spent: 69.534755 120: time spent: 69.629152 130: time spent: 69.460484 140: time spent: 69.858440 150: time spent: 69.584802 160: time spent: 69.036476 170: time spent: 69.684819 180: time spent: 69.096412 190: time spent: 69.439174 200: time spent: 69.579246 210: time spent: 69.271503 220: time spent: 69.686563 230: time spent: 69.378300 240: time spent: 69.077716 250: time spent: 69.696302 260: time spent: 69.401725 270: time spent: 69.067499 280: time spent: 69.632999 290: time spent: 69.554278 300: time spent: 69.395944 310: time spent: 69.400072 320: time spent: 69.457661 330: time spent: 69.365516 340: time spent: 69.215869 350: time spent: 69.333826 360: time spent: 69.223677 370: time spent: 69.738181 380: time spent: 69.825657 390: time spent: 69.163091 400: time spent: 69.683673 410: time spent: 69.812176 420: time spent: 69.446891 430: time spent: 69.849856 440: time spent: 69.950041 450: time spent: 69.358514 460: time spent: 69.582762 470: time spent: 66.751547 480: time spent: 69.031724 490: time spent: 66.946575 "
     ]
    }
   ],
   "source": [
    "for i in range(500):\n",
    "    start = time.clock()\n",
    "    get_scores(X_white, y_white)\n",
    "    if i % 10 == 0:\n",
    "        print('%d: time spent: %f' % (i, time.clock() - start), end=' ')"
   ]
  },
  {
   "cell_type": "code",
   "execution_count": 53,
   "metadata": {},
   "outputs": [
    {
     "data": {
      "text/html": [
       "<div>\n",
       "<style scoped>\n",
       "    .dataframe tbody tr th:only-of-type {\n",
       "        vertical-align: middle;\n",
       "    }\n",
       "\n",
       "    .dataframe tbody tr th {\n",
       "        vertical-align: top;\n",
       "    }\n",
       "\n",
       "    .dataframe thead th {\n",
       "        text-align: right;\n",
       "    }\n",
       "</style>\n",
       "<table border=\"1\" class=\"dataframe\">\n",
       "  <thead>\n",
       "    <tr style=\"text-align: right;\">\n",
       "      <th></th>\n",
       "      <th>SVM</th>\n",
       "      <th>Random Forest</th>\n",
       "      <th>Nearest Neighbor</th>\n",
       "      <th>Median Voter</th>\n",
       "    </tr>\n",
       "  </thead>\n",
       "  <tbody>\n",
       "    <tr>\n",
       "      <th>0</th>\n",
       "      <td>0.621088</td>\n",
       "      <td>0.621088</td>\n",
       "      <td>0.602721</td>\n",
       "      <td>0.636735</td>\n",
       "    </tr>\n",
       "    <tr>\n",
       "      <th>1</th>\n",
       "      <td>0.646259</td>\n",
       "      <td>0.639456</td>\n",
       "      <td>0.614966</td>\n",
       "      <td>0.657143</td>\n",
       "    </tr>\n",
       "    <tr>\n",
       "      <th>2</th>\n",
       "      <td>0.643537</td>\n",
       "      <td>0.649660</td>\n",
       "      <td>0.615646</td>\n",
       "      <td>0.657143</td>\n",
       "    </tr>\n",
       "    <tr>\n",
       "      <th>3</th>\n",
       "      <td>0.653741</td>\n",
       "      <td>0.646939</td>\n",
       "      <td>0.618367</td>\n",
       "      <td>0.666667</td>\n",
       "    </tr>\n",
       "    <tr>\n",
       "      <th>4</th>\n",
       "      <td>0.653741</td>\n",
       "      <td>0.638095</td>\n",
       "      <td>0.644218</td>\n",
       "      <td>0.670068</td>\n",
       "    </tr>\n",
       "  </tbody>\n",
       "</table>\n",
       "</div>"
      ],
      "text/plain": [
       "        SVM  Random Forest  Nearest Neighbor  Median Voter\n",
       "0  0.621088       0.621088          0.602721      0.636735\n",
       "1  0.646259       0.639456          0.614966      0.657143\n",
       "2  0.643537       0.649660          0.615646      0.657143\n",
       "3  0.653741       0.646939          0.618367      0.666667\n",
       "4  0.653741       0.638095          0.644218      0.670068"
      ]
     },
     "execution_count": 53,
     "metadata": {},
     "output_type": "execute_result"
    }
   ],
   "source": [
    "scores = pd.DataFrame()\n",
    "scores['SVM'] = svm_score\n",
    "scores['Random Forest'] = rf_score\n",
    "scores['Nearest Neighbor'] = nn_score\n",
    "scores['Median Voter'] = mv_score\n",
    "scores.to_csv('scores_white.csv')\n",
    "scores.head()"
   ]
  },
  {
   "cell_type": "markdown",
   "metadata": {},
   "source": [
    "The same for Red Wine Data"
   ]
  },
  {
   "cell_type": "code",
   "execution_count": 26,
   "metadata": {},
   "outputs": [],
   "source": [
    "#Define lists where we're going to accumulate statistic values\n",
    "rf_score = []\n",
    "svm_score = []\n",
    "nn_score = []\n",
    "mv_score = [] #stands for our median voting classifier\n",
    "#rf_best_params = []\n",
    "#svm_best_params = []\n",
    "predictions = pd.DataFrame()"
   ]
  },
  {
   "cell_type": "code",
   "execution_count": 27,
   "metadata": {},
   "outputs": [
    {
     "name": "stdout",
     "output_type": "stream",
     "text": [
      "0: time spent: 18.444939 10: time spent: 18.341323 20: time spent: 18.530190 30: time spent: 18.373603 40: time spent: 18.360565 50: time spent: 18.816898 60: time spent: 18.311388 70: time spent: 18.884478 80: time spent: 18.466162 90: time spent: 18.367331 100: time spent: 18.716597 110: time spent: 18.482546 120: time spent: 18.517333 130: time spent: 18.480068 140: time spent: 18.536317 150: time spent: 18.499611 160: time spent: 18.524878 170: time spent: 18.633720 180: time spent: 18.561386 190: time spent: 18.389252 200: time spent: 18.554340 210: time spent: 18.674577 220: time spent: 18.534918 230: time spent: 18.703174 240: time spent: 18.589737 250: time spent: 18.567486 260: time spent: 18.452249 270: time spent: 18.504605 280: time spent: 18.621449 290: time spent: 18.393539 300: time spent: 18.433564 310: time spent: 18.517746 320: time spent: 18.549496 330: time spent: 18.787966 340: time spent: 18.495998 350: time spent: 18.516806 360: time spent: 18.878331 370: time spent: 18.548897 380: time spent: 18.703614 390: time spent: 18.661722 400: time spent: 18.501370 410: time spent: 18.459354 420: time spent: 18.482859 430: time spent: 18.537620 440: time spent: 18.356254 450: time spent: 18.460105 460: time spent: 18.761093 470: time spent: 18.571620 480: time spent: 18.661130 490: time spent: 18.552003 500: time spent: 18.363783 510: time spent: 19.660602 520: time spent: 19.505626 530: time spent: 19.256859 540: time spent: 19.421317 550: time spent: 19.437509 560: time spent: 19.288503 570: time spent: 19.027013 580: time spent: 19.448808 590: time spent: 19.062423 600: time spent: 19.284540 610: time spent: 19.206468 620: time spent: 19.144947 630: time spent: 19.346576 640: time spent: 19.190872 650: time spent: 19.521830 660: time spent: 19.142251 670: time spent: 19.366550 680: time spent: 19.167412 690: time spent: 19.336054 700: time spent: 19.144293 710: time spent: 19.216048 720: time spent: 19.112952 730: time spent: 19.132567 740: time spent: 18.977625 750: time spent: 19.491893 760: time spent: 19.077229 770: time spent: 19.406832 780: time spent: 19.053118 790: time spent: 18.995161 800: time spent: 18.959166 810: time spent: 19.234726 820: time spent: 18.956431 830: time spent: 18.977854 840: time spent: 19.081866 850: time spent: 19.070341 860: time spent: 19.173771 870: time spent: 19.157591 880: time spent: 19.362197 890: time spent: 19.220983 900: time spent: 19.082170 910: time spent: 19.126358 920: time spent: 19.262974 930: time spent: 18.919981 940: time spent: 19.465483 950: time spent: 18.989006 960: time spent: 19.230783 970: time spent: 19.282768 980: time spent: 19.405651 990: time spent: 19.084639 "
     ]
    }
   ],
   "source": [
    "for i in range(1000):\n",
    "    start = time.clock()\n",
    "    get_scores(X_red, y_red)\n",
    "    if i % 10 == 0:\n",
    "        print('%d: time spent: %f' % (i, time.clock() - start), end=' ')"
   ]
  },
  {
   "cell_type": "code",
   "execution_count": 28,
   "metadata": {},
   "outputs": [
    {
     "data": {
      "text/html": [
       "<div>\n",
       "<style scoped>\n",
       "    .dataframe tbody tr th:only-of-type {\n",
       "        vertical-align: middle;\n",
       "    }\n",
       "\n",
       "    .dataframe tbody tr th {\n",
       "        vertical-align: top;\n",
       "    }\n",
       "\n",
       "    .dataframe thead th {\n",
       "        text-align: right;\n",
       "    }\n",
       "</style>\n",
       "<table border=\"1\" class=\"dataframe\">\n",
       "  <thead>\n",
       "    <tr style=\"text-align: right;\">\n",
       "      <th></th>\n",
       "      <th>SVM</th>\n",
       "      <th>Random Forest</th>\n",
       "      <th>Nearest Neighbor</th>\n",
       "      <th>Median Voter</th>\n",
       "    </tr>\n",
       "  </thead>\n",
       "  <tbody>\n",
       "    <tr>\n",
       "      <th>0</th>\n",
       "      <td>0.616667</td>\n",
       "      <td>0.647917</td>\n",
       "      <td>0.589583</td>\n",
       "      <td>0.641667</td>\n",
       "    </tr>\n",
       "    <tr>\n",
       "      <th>1</th>\n",
       "      <td>0.662500</td>\n",
       "      <td>0.645833</td>\n",
       "      <td>0.629167</td>\n",
       "      <td>0.679167</td>\n",
       "    </tr>\n",
       "    <tr>\n",
       "      <th>2</th>\n",
       "      <td>0.652083</td>\n",
       "      <td>0.658333</td>\n",
       "      <td>0.620833</td>\n",
       "      <td>0.675000</td>\n",
       "    </tr>\n",
       "    <tr>\n",
       "      <th>3</th>\n",
       "      <td>0.625000</td>\n",
       "      <td>0.647917</td>\n",
       "      <td>0.616667</td>\n",
       "      <td>0.652083</td>\n",
       "    </tr>\n",
       "    <tr>\n",
       "      <th>4</th>\n",
       "      <td>0.627083</td>\n",
       "      <td>0.631250</td>\n",
       "      <td>0.606250</td>\n",
       "      <td>0.645833</td>\n",
       "    </tr>\n",
       "  </tbody>\n",
       "</table>\n",
       "</div>"
      ],
      "text/plain": [
       "        SVM  Random Forest  Nearest Neighbor  Median Voter\n",
       "0  0.616667       0.647917          0.589583      0.641667\n",
       "1  0.662500       0.645833          0.629167      0.679167\n",
       "2  0.652083       0.658333          0.620833      0.675000\n",
       "3  0.625000       0.647917          0.616667      0.652083\n",
       "4  0.627083       0.631250          0.606250      0.645833"
      ]
     },
     "execution_count": 28,
     "metadata": {},
     "output_type": "execute_result"
    }
   ],
   "source": [
    "scores = pd.DataFrame()\n",
    "scores['SVM'] = svm_score\n",
    "scores['Random Forest'] = rf_score\n",
    "scores['Nearest Neighbor'] = nn_score\n",
    "scores['Median Voter'] = mv_score\n",
    "scores.to_csv('scores_red.csv')\n",
    "scores.head()"
   ]
  },
  {
   "cell_type": "code",
   "execution_count": 92,
   "metadata": {},
   "outputs": [
    {
     "name": "stdout",
     "output_type": "stream",
     "text": [
      "(500, 4) (1000, 4)\n"
     ]
    },
    {
     "data": {
      "text/html": [
       "<div>\n",
       "<style scoped>\n",
       "    .dataframe tbody tr th:only-of-type {\n",
       "        vertical-align: middle;\n",
       "    }\n",
       "\n",
       "    .dataframe tbody tr th {\n",
       "        vertical-align: top;\n",
       "    }\n",
       "\n",
       "    .dataframe thead th {\n",
       "        text-align: right;\n",
       "    }\n",
       "</style>\n",
       "<table border=\"1\" class=\"dataframe\">\n",
       "  <thead>\n",
       "    <tr style=\"text-align: right;\">\n",
       "      <th></th>\n",
       "      <th>SVM</th>\n",
       "      <th>Random Forest</th>\n",
       "      <th>Nearest Neighbor</th>\n",
       "      <th>Median Voter</th>\n",
       "    </tr>\n",
       "  </thead>\n",
       "  <tbody>\n",
       "    <tr>\n",
       "      <th>0</th>\n",
       "      <td>0.643537</td>\n",
       "      <td>0.662585</td>\n",
       "      <td>0.623810</td>\n",
       "      <td>0.661905</td>\n",
       "    </tr>\n",
       "    <tr>\n",
       "      <th>1</th>\n",
       "      <td>0.660544</td>\n",
       "      <td>0.646259</td>\n",
       "      <td>0.627891</td>\n",
       "      <td>0.661905</td>\n",
       "    </tr>\n",
       "    <tr>\n",
       "      <th>2</th>\n",
       "      <td>0.642177</td>\n",
       "      <td>0.647619</td>\n",
       "      <td>0.611565</td>\n",
       "      <td>0.659184</td>\n",
       "    </tr>\n",
       "    <tr>\n",
       "      <th>3</th>\n",
       "      <td>0.652381</td>\n",
       "      <td>0.655102</td>\n",
       "      <td>0.633333</td>\n",
       "      <td>0.668707</td>\n",
       "    </tr>\n",
       "    <tr>\n",
       "      <th>4</th>\n",
       "      <td>0.656463</td>\n",
       "      <td>0.637415</td>\n",
       "      <td>0.634694</td>\n",
       "      <td>0.669388</td>\n",
       "    </tr>\n",
       "  </tbody>\n",
       "</table>\n",
       "</div>"
      ],
      "text/plain": [
       "        SVM  Random Forest  Nearest Neighbor  Median Voter\n",
       "0  0.643537       0.662585          0.623810      0.661905\n",
       "1  0.660544       0.646259          0.627891      0.661905\n",
       "2  0.642177       0.647619          0.611565      0.659184\n",
       "3  0.652381       0.655102          0.633333      0.668707\n",
       "4  0.656463       0.637415          0.634694      0.669388"
      ]
     },
     "execution_count": 92,
     "metadata": {},
     "output_type": "execute_result"
    }
   ],
   "source": [
    "white_scores = pd.read_csv('scores_white.csv', index_col=0)\n",
    "red_scores = pd.read_csv('scores_red.csv', index_col=0)\n",
    "print(white_scores.shape, red_scores.shape)\n",
    "white_scores.head()"
   ]
  },
  {
   "cell_type": "code",
   "execution_count": 93,
   "metadata": {},
   "outputs": [
    {
     "data": {
      "text/html": [
       "<div>\n",
       "<style scoped>\n",
       "    .dataframe tbody tr th:only-of-type {\n",
       "        vertical-align: middle;\n",
       "    }\n",
       "\n",
       "    .dataframe tbody tr th {\n",
       "        vertical-align: top;\n",
       "    }\n",
       "\n",
       "    .dataframe thead th {\n",
       "        text-align: right;\n",
       "    }\n",
       "</style>\n",
       "<table border=\"1\" class=\"dataframe\">\n",
       "  <thead>\n",
       "    <tr style=\"text-align: right;\">\n",
       "      <th></th>\n",
       "      <th>SVM</th>\n",
       "      <th>Random Forest</th>\n",
       "      <th>Nearest Neighbor</th>\n",
       "      <th>Median Voter</th>\n",
       "    </tr>\n",
       "  </thead>\n",
       "  <tbody>\n",
       "    <tr>\n",
       "      <th>min</th>\n",
       "      <td>0.608</td>\n",
       "      <td>0.596</td>\n",
       "      <td>0.578</td>\n",
       "      <td>0.624</td>\n",
       "    </tr>\n",
       "    <tr>\n",
       "      <th>max</th>\n",
       "      <td>0.686</td>\n",
       "      <td>0.676</td>\n",
       "      <td>0.662</td>\n",
       "      <td>0.689</td>\n",
       "    </tr>\n",
       "    <tr>\n",
       "      <th>mean</th>\n",
       "      <td>0.644</td>\n",
       "      <td>0.640</td>\n",
       "      <td>0.622</td>\n",
       "      <td>0.657</td>\n",
       "    </tr>\n",
       "    <tr>\n",
       "      <th>std</th>\n",
       "      <td>0.012</td>\n",
       "      <td>0.012</td>\n",
       "      <td>0.012</td>\n",
       "      <td>0.011</td>\n",
       "    </tr>\n",
       "  </tbody>\n",
       "</table>\n",
       "</div>"
      ],
      "text/plain": [
       "        SVM  Random Forest  Nearest Neighbor  Median Voter\n",
       "min   0.608          0.596             0.578         0.624\n",
       "max   0.686          0.676             0.662         0.689\n",
       "mean  0.644          0.640             0.622         0.657\n",
       "std   0.012          0.012             0.012         0.011"
      ]
     },
     "execution_count": 93,
     "metadata": {},
     "output_type": "execute_result"
    }
   ],
   "source": [
    "white_scores.agg(['min', 'max', 'mean', 'std']).round(decimals=3)"
   ]
  },
  {
   "cell_type": "code",
   "execution_count": 94,
   "metadata": {},
   "outputs": [
    {
     "data": {
      "text/html": [
       "<div>\n",
       "<style scoped>\n",
       "    .dataframe tbody tr th:only-of-type {\n",
       "        vertical-align: middle;\n",
       "    }\n",
       "\n",
       "    .dataframe tbody tr th {\n",
       "        vertical-align: top;\n",
       "    }\n",
       "\n",
       "    .dataframe thead th {\n",
       "        text-align: right;\n",
       "    }\n",
       "</style>\n",
       "<table border=\"1\" class=\"dataframe\">\n",
       "  <thead>\n",
       "    <tr style=\"text-align: right;\">\n",
       "      <th></th>\n",
       "      <th>SVM</th>\n",
       "      <th>Random Forest</th>\n",
       "      <th>Nearest Neighbor</th>\n",
       "      <th>Median Voter</th>\n",
       "    </tr>\n",
       "  </thead>\n",
       "  <tbody>\n",
       "    <tr>\n",
       "      <th>min</th>\n",
       "      <td>0.583</td>\n",
       "      <td>0.583</td>\n",
       "      <td>0.560</td>\n",
       "      <td>0.594</td>\n",
       "    </tr>\n",
       "    <tr>\n",
       "      <th>max</th>\n",
       "      <td>0.698</td>\n",
       "      <td>0.715</td>\n",
       "      <td>0.706</td>\n",
       "      <td>0.725</td>\n",
       "    </tr>\n",
       "    <tr>\n",
       "      <th>mean</th>\n",
       "      <td>0.643</td>\n",
       "      <td>0.656</td>\n",
       "      <td>0.628</td>\n",
       "      <td>0.665</td>\n",
       "    </tr>\n",
       "    <tr>\n",
       "      <th>std</th>\n",
       "      <td>0.019</td>\n",
       "      <td>0.020</td>\n",
       "      <td>0.020</td>\n",
       "      <td>0.021</td>\n",
       "    </tr>\n",
       "  </tbody>\n",
       "</table>\n",
       "</div>"
      ],
      "text/plain": [
       "        SVM  Random Forest  Nearest Neighbor  Median Voter\n",
       "min   0.583          0.583             0.560         0.594\n",
       "max   0.698          0.715             0.706         0.725\n",
       "mean  0.643          0.656             0.628         0.665\n",
       "std   0.019          0.020             0.020         0.021"
      ]
     },
     "execution_count": 94,
     "metadata": {},
     "output_type": "execute_result"
    }
   ],
   "source": [
    "red_scores.agg(['min', 'max', 'mean', 'std']).round(decimals=3)"
   ]
  },
  {
   "cell_type": "code",
   "execution_count": 95,
   "metadata": {},
   "outputs": [
    {
     "data": {
      "image/png": "[encoded data removed]",
      "text/plain": [
       "<Figure size 720x360 with 1 Axes>"
      ]
     },
     "metadata": {},
     "output_type": "display_data"
    }
   ],
   "source": [
    "fig, ax = plt.subplots()\n",
    "colors = ['blue', 'green', 'gold', 'red']\n",
    "white_scores.plot.hist(density=True, bins=50, ax=ax, alpha=0.5,\n",
    "                       title='Distribution Of Scores For Different Classifiers \\nOn White Wine Dataset', edgecolor='grey',\n",
    "                       figsize=(10,5), color=colors, histtype='bar')\n",
    "white_scores.plot.kde(ax=ax, legend=False, color=colors)\n",
    "ax.set_xlabel('Score')\n",
    "fig.savefig('distributions.png')\n",
    "plt.show()"
   ]
  },
  {
   "cell_type": "code",
   "execution_count": 96,
   "metadata": {},
   "outputs": [
    {
     "data": {
      "image/png": "[encoded data removed]",
      "text/plain": [
       "<Figure size 360x504 with 4 Axes>"
      ]
     },
     "metadata": {},
     "output_type": "display_data"
    }
   ],
   "source": [
    "white_scores.plot(kind='hist', subplots=True, sharex=True, layout=(4,1)\n",
    "                  , bins=100, figsize=(5,7), title='Scores', legend=True)\n",
    "plt.show()"
   ]
  },
  {
   "cell_type": "markdown",
   "metadata": {},
   "source": [
    "Percent when Random Forest achieved better result then Median Voter:"
   ]
  },
  {
   "cell_type": "code",
   "execution_count": 97,
   "metadata": {},
   "outputs": [
    {
     "data": {
      "text/plain": [
       "0.054"
      ]
     },
     "execution_count": 97,
     "metadata": {},
     "output_type": "execute_result"
    }
   ],
   "source": [
    "white_scores[white_scores['Random Forest'] > white_scores['Median Voter']].shape[0] * 1.0 / white_scores.shape[0]"
   ]
  },
  {
   "cell_type": "markdown",
   "metadata": {},
   "source": [
    "Percent when SVM achieved better result then Median Voter:"
   ]
  },
  {
   "cell_type": "code",
   "execution_count": 98,
   "metadata": {},
   "outputs": [
    {
     "data": {
      "text/plain": [
       "0.042"
      ]
     },
     "execution_count": 98,
     "metadata": {},
     "output_type": "execute_result"
    }
   ],
   "source": [
    "white_scores[white_scores['SVM'] > white_scores['Median Voter']].shape[0] * 1.0 / white_scores.shape[0]"
   ]
  },
  {
   "cell_type": "code",
   "execution_count": 99,
   "metadata": {},
   "outputs": [
    {
     "data": {
      "text/html": [
       "<div>\n",
       "<style scoped>\n",
       "    .dataframe tbody tr th:only-of-type {\n",
       "        vertical-align: middle;\n",
       "    }\n",
       "\n",
       "    .dataframe tbody tr th {\n",
       "        vertical-align: top;\n",
       "    }\n",
       "\n",
       "    .dataframe thead th {\n",
       "        text-align: right;\n",
       "    }\n",
       "</style>\n",
       "<table border=\"1\" class=\"dataframe\">\n",
       "  <thead>\n",
       "    <tr style=\"text-align: right;\">\n",
       "      <th></th>\n",
       "      <th>SVM</th>\n",
       "      <th>Random Forest</th>\n",
       "      <th>Nearest Neighbor</th>\n",
       "      <th>Median Voter</th>\n",
       "    </tr>\n",
       "  </thead>\n",
       "  <tbody>\n",
       "    <tr>\n",
       "      <th>min</th>\n",
       "      <td>0.583</td>\n",
       "      <td>0.583</td>\n",
       "      <td>0.560</td>\n",
       "      <td>0.594</td>\n",
       "    </tr>\n",
       "    <tr>\n",
       "      <th>max</th>\n",
       "      <td>0.698</td>\n",
       "      <td>0.715</td>\n",
       "      <td>0.706</td>\n",
       "      <td>0.725</td>\n",
       "    </tr>\n",
       "    <tr>\n",
       "      <th>mean</th>\n",
       "      <td>0.643</td>\n",
       "      <td>0.656</td>\n",
       "      <td>0.628</td>\n",
       "      <td>0.665</td>\n",
       "    </tr>\n",
       "    <tr>\n",
       "      <th>std</th>\n",
       "      <td>0.019</td>\n",
       "      <td>0.020</td>\n",
       "      <td>0.020</td>\n",
       "      <td>0.021</td>\n",
       "    </tr>\n",
       "  </tbody>\n",
       "</table>\n",
       "</div>"
      ],
      "text/plain": [
       "        SVM  Random Forest  Nearest Neighbor  Median Voter\n",
       "min   0.583          0.583             0.560         0.594\n",
       "max   0.698          0.715             0.706         0.725\n",
       "mean  0.643          0.656             0.628         0.665\n",
       "std   0.019          0.020             0.020         0.021"
      ]
     },
     "execution_count": 99,
     "metadata": {},
     "output_type": "execute_result"
    }
   ],
   "source": [
    "red_scores.agg(['min', 'max', 'mean', 'std']).round(decimals=3)"
   ]
  },
  {
   "cell_type": "code",
   "execution_count": 100,
   "metadata": {},
   "outputs": [
    {
     "data": {
      "image/png": "[encoded data removed]",
      "text/plain": [
       "<Figure size 720x360 with 1 Axes>"
      ]
     },
     "metadata": {},
     "output_type": "display_data"
    }
   ],
   "source": [
    "fig, ax = plt.subplots()\n",
    "colors = ['blue', 'green', 'gold', 'red']\n",
    "red_scores.plot.hist(density=True, bins=50, ax=ax, alpha=0.5,\n",
    "                       title='Distribution Of Scores For Different Classifiers \\nOn Red Wine Dataset', edgecolor='grey',\n",
    "                       figsize=(10,5), color=colors, histtype='bar')\n",
    "red_scores.plot.kde(ax=ax, legend=False, color=colors)\n",
    "ax.set_xlabel('Score')\n",
    "fig.savefig('distributions_red.png')\n",
    "plt.show()"
   ]
  },
  {
   "cell_type": "code",
   "execution_count": 101,
   "metadata": {},
   "outputs": [
    {
     "data": {
      "image/png": "[encoded data removed]",
      "text/plain": [
       "<Figure size 360x504 with 4 Axes>"
      ]
     },
     "metadata": {},
     "output_type": "display_data"
    }
   ],
   "source": [
    "red_scores.plot(kind='hist', subplots=True, sharex=True, layout=(4,1)\n",
    "                  , bins=100, figsize=(5,7), title='Scores', legend=True)\n",
    "plt.show()"
   ]
  },
  {
   "cell_type": "markdown",
   "metadata": {},
   "source": [
    "Percent when Random Forest achieved better result then Median Voter:"
   ]
  },
  {
   "cell_type": "code",
   "execution_count": 102,
   "metadata": {},
   "outputs": [
    {
     "data": {
      "text/plain": [
       "0.28"
      ]
     },
     "execution_count": 102,
     "metadata": {},
     "output_type": "execute_result"
    }
   ],
   "source": [
    "red_scores[red_scores['Random Forest'] > red_scores['Median Voter']].shape[0] * 1.0 / red_scores.shape[0]"
   ]
  },
  {
   "cell_type": "markdown",
   "metadata": {},
   "source": [
    "Percent when SVM achieved better result then Median Voter:"
   ]
  },
  {
   "cell_type": "code",
   "execution_count": 103,
   "metadata": {},
   "outputs": [
    {
     "data": {
      "text/plain": [
       "0.038"
      ]
     },
     "execution_count": 103,
     "metadata": {},
     "output_type": "execute_result"
    }
   ],
   "source": [
    "red_scores[red_scores['SVM'] > red_scores['Median Voter']].shape[0] * 1.0 / red_scores.shape[0]"
   ]
  },
  {
   "cell_type": "markdown",
   "metadata": {},
   "source": [
    "# Confusion Matrices"
   ]
  },
  {
   "cell_type": "code",
   "execution_count": 104,
   "metadata": {},
   "outputs": [
    {
     "data": {
      "image/png": "[encoded data removed]",
      "text/plain": [
       "<Figure size 1152x720 with 12 Axes>"
      ]
     },
     "metadata": {},
     "output_type": "display_data"
    }
   ],
   "source": [
    "fig, axn = plt.subplots(2,3, figsize=(16,10))\n",
    "cm_w_rfc = confusion_matrix(y_w_test, rfcWhite.predict(X_w_test))\n",
    "cm_w_svm = confusion_matrix(y_w_test, svmWhite.predict(X_w_test_scaled))\n",
    "cm_w_mv = confusion_matrix(y_w_test, vote_white(X_w_test))\n",
    "cm_r_rfc = confusion_matrix(y_r_test, rfcRed.predict(X_r_test))\n",
    "cm_r_svm = confusion_matrix(y_r_test, svmRed.predict(X_r_test_scaled))\n",
    "cm_r_mv = confusion_matrix(y_r_test, vote_red(X_r_test))\n",
    "\n",
    "sns.heatmap(pd.DataFrame(cm_w_rfc, index=[4,5,6,7,8], columns=[4,5,6,7,8])\n",
    "                     , annot=True, fmt='d', ax=axn[0,0], linewidths=.5, cmap='icefire')\n",
    "sns.heatmap(pd.DataFrame(cm_w_svm, index=[4,5,6,7,8], columns=[4,5,6,7,8])\n",
    "                     , annot=True, fmt='d', ax=axn[0,1], linewidths=.5, cmap='icefire')\n",
    "sns.heatmap(pd.DataFrame(cm_w_mv, index=[4,5,6,7,8], columns=[4,5,6,7,8])\n",
    "                     , annot=True, fmt='d', ax=axn[0,2], linewidths=.5, cmap='icefire')\n",
    "\n",
    "sns.heatmap(pd.DataFrame(cm_r_rfc, index=[4,5,6,7], columns=[4,5,6,7])\n",
    "                     , annot=True, fmt='d', ax=axn[1,0], linewidths=.5, cmap='icefire')\n",
    "sns.heatmap(pd.DataFrame(cm_r_svm, index=[4,5,6,7], columns=[4,5,6,7])\n",
    "                     , annot=True, fmt='d', ax=axn[1,1], linewidths=.5, cmap='icefire')\n",
    "sns.heatmap(pd.DataFrame(cm_r_mv, index=[4,5,6,7], columns=[4,5,6,7])\n",
    "                     , annot=True, fmt='d', ax=axn[1,2], linewidths=.5, cmap='icefire')\n",
    "\n",
    "axn[0,0].set_title('Random Forest Classifier on White Wine Dataset')\n",
    "axn[0,1].set_title('SVM Classifier on White Wine Dataset')\n",
    "axn[0,2].set_title('Median Voter Classifier on White Wine Dataset')\n",
    "axn[1,0].set_title('Random Forest Classifier on Red Wine Dataset')\n",
    "axn[1,1].set_title('SVM Classifier on Red Wine Dataset')\n",
    "axn[1,2].set_title('Median Voter Classifier on Red Wine Dataset')\n",
    "\n",
    "for ax in axn.flat:\n",
    "    ax.set_xlabel('Predicted Value')\n",
    "    ax.set_ylabel('True Value')\n",
    "fig.suptitle('Confusion Matrices', fontweight='bold', size=18)\n",
    "plt.subplots_adjust(hspace=0.3)\n",
    "fig.savefig('confusion_matrices.png')\n",
    "plt.show()"
   ]
  },
  {
   "cell_type": "markdown",
   "metadata": {},
   "source": [
    "Let's compute precision of Median Voter Classifier for each predicted value:"
   ]
  },
  {
   "cell_type": "code",
   "execution_count": 105,
   "metadata": {},
   "outputs": [
    {
     "name": "stdout",
     "output_type": "stream",
     "text": [
      "[0.45, 0.6805555555555556, 0.6399491094147582, 0.7313432835820896, 0.7741935483870968]\n",
      "[0.85, 0.9861111111111112, 0.9402035623409669, 0.9701492537313433, 0.9032258064516129]\n",
      "[0.23076923076923078, 0.722488038277512, 0.6091370558375635, 0.5573770491803278]\n",
      "[0.6153846153846154, 0.9808612440191388, 0.9695431472081218, 0.9344262295081968]\n"
     ]
    }
   ],
   "source": [
    "\n",
    "def get_precision(matrix, max_error):\n",
    "    result = []\n",
    "    for i in range(len(matrix)):\n",
    "        total = 0\n",
    "        fit = 0\n",
    "        for j in range(len(matrix)):\n",
    "            total += matrix[j][i]\n",
    "            if abs(i - j) <= max_error:\n",
    "                fit += matrix[j][i]\n",
    "        result.append(fit * 1.0 / total )\n",
    "    return result\n",
    "\n",
    "zero_tolerance_precision_w = get_precision(cm_w_mv, 0)\n",
    "minimum_error_precision_w = get_precision(cm_w_mv, 1)\n",
    "zero_tolerance_precision_r = get_precision(cm_r_mv, 0)\n",
    "minimum_error_precision_r = get_precision(cm_r_mv, 1)\n",
    "print(zero_tolerance_precision_w)\n",
    "print(minimum_error_precision_w)\n",
    "print(zero_tolerance_precision_r)\n",
    "print(minimum_error_precision_r)          "
   ]
  },
  {
   "cell_type": "code",
   "execution_count": 106,
   "metadata": {},
   "outputs": [
    {
     "name": "stdout",
     "output_type": "stream",
     "text": [
      "0.04217687074829932 0.05510204081632653\n",
      "0.01875 0.04375\n"
     ]
    }
   ],
   "source": [
    "def more_then_one_error(cm):\n",
    "    error = 0\n",
    "    for i in range(len(cm)):\n",
    "        for j in range(len(cm[0])):\n",
    "            if abs(i-j) > 1:\n",
    "                error +=cm[i][j]\n",
    "    return error/sum(map(sum,cm))\n",
    "print(more_then_one_error(cm_w_rfc), more_then_one_error(cm_w_svm))\n",
    "print(more_then_one_error(cm_r_rfc), more_then_one_error(cm_r_svm))"
   ]
  },
  {
   "cell_type": "code",
   "execution_count": 107,
   "metadata": {},
   "outputs": [
    {
     "data": {
      "text/plain": [
       "array([0.07513267, 0.09600149, 0.08645091, 0.08554785, 0.08840507,\n",
       "       0.09684223, 0.0898061 , 0.1110535 , 0.08184911, 0.07771596,\n",
       "       0.1111951 ])"
      ]
     },
     "execution_count": 107,
     "metadata": {},
     "output_type": "execute_result"
    }
   ],
   "source": [
    "importances = rfcWhite.feature_importances_\n",
    "importances"
   ]
  },
  {
   "cell_type": "code",
   "execution_count": 108,
   "metadata": {},
   "outputs": [],
   "source": [
    "X_w_train_weighted = X_w_train_scaled * (importances * importances) *100\n",
    "X_w_test_weighted = X_w_test_scaled * (importances * importances) *100"
   ]
  },
  {
   "cell_type": "code",
   "execution_count": 109,
   "metadata": {},
   "outputs": [
    {
     "data": {
      "text/plain": [
       "array([[ 0.40716444,  0.32075776, -0.62527009,  0.173165  ,  0.18817121,\n",
       "         0.10045864,  0.44439536,  0.73520901, -0.64187765, -0.51623972,\n",
       "        -1.23084702],\n",
       "       [-1.60974361, -0.47193043, -1.21574553, -0.82259497, -0.08579392,\n",
       "         0.21804199,  0.53781817, -0.64790323,  0.02210032, -0.51623972,\n",
       "        -0.07992413]])"
      ]
     },
     "execution_count": 109,
     "metadata": {},
     "output_type": "execute_result"
    }
   ],
   "source": [
    "X_w_train_scaled[:2, :]"
   ]
  },
  {
   "cell_type": "code",
   "execution_count": 110,
   "metadata": {},
   "outputs": [
    {
     "data": {
      "text/plain": [
       "array([[ 0.22984102,  0.29561953, -0.46731185,  0.12672966,  0.1470644 ,\n",
       "         0.09421431,  0.3584109 ,  0.90672451, -0.43001164, -0.31179692,\n",
       "        -1.52186225],\n",
       "       [-0.90868719, -0.43494459, -0.90861902, -0.60201071, -0.06705187,\n",
       "         0.20448889,  0.43375766, -0.79905133,  0.01480562, -0.31179692,\n",
       "        -0.09882099]])"
      ]
     },
     "execution_count": 110,
     "metadata": {},
     "output_type": "execute_result"
    }
   ],
   "source": [
    "X_w_train_weighted[:2, :]"
   ]
  },
  {
   "cell_type": "code",
   "execution_count": 111,
   "metadata": {},
   "outputs": [
    {
     "name": "stdout",
     "output_type": "stream",
     "text": [
      "Best parameters: {'C': 100, 'gamma': 1, 'kernel': 'rbf'}\n",
      "0.6079346557759626 0.6428571428571429\n"
     ]
    }
   ],
   "source": [
    "clf = GridSearchCV(svm.SVC(), {'kernel':['rbf'], 'C': [0.1, 0.5, 1, 5, 10, 50, 100], 'gamma': [0.05, 0.1, 0.5, 1, 3]},\n",
    "                   cv=5, return_train_score=True)\n",
    "clf.fit(X_w_train_weighted, y_w_train)\n",
    "print('Best parameters:', clf.best_params_)\n",
    "print(clf.best_score_, accuracy_score(y_w_test, clf.predict(X_w_test_weighted)))"
   ]
  },
  {
   "cell_type": "code",
   "execution_count": 112,
   "metadata": {},
   "outputs": [
    {
     "data": {
      "text/plain": [
       "<matplotlib.axes._subplots.AxesSubplot at 0x1a1ee1b4e0>"
      ]
     },
     "execution_count": 112,
     "metadata": {},
     "output_type": "execute_result"
    },
    {
     "data": {
      "image/png": "[encoded data removed]",
      "text/plain": [
       "<Figure size 864x648 with 2 Axes>"
      ]
     },
     "metadata": {},
     "output_type": "display_data"
    }
   ],
   "source": [
    "XY_w = X_w_train.copy()\n",
    "XY_w['y'] = y_w_train\n",
    "corrmat = XY_w.corr()\n",
    "plt.subplots(figsize=(12,9))\n",
    "sns.heatmap(corrmat)"
   ]
  },
  {
   "cell_type": "code",
   "execution_count": 113,
   "metadata": {},
   "outputs": [
    {
     "data": {
      "text/html": [
       "<div>\n",
       "<style scoped>\n",
       "    .dataframe tbody tr th:only-of-type {\n",
       "        vertical-align: middle;\n",
       "    }\n",
       "\n",
       "    .dataframe tbody tr th {\n",
       "        vertical-align: top;\n",
       "    }\n",
       "\n",
       "    .dataframe thead th {\n",
       "        text-align: right;\n",
       "    }\n",
       "</style>\n",
       "<table border=\"1\" class=\"dataframe\">\n",
       "  <thead>\n",
       "    <tr style=\"text-align: right;\">\n",
       "      <th></th>\n",
       "      <th>fixed acidity</th>\n",
       "      <th>volatile acidity</th>\n",
       "      <th>citric acid</th>\n",
       "      <th>residual sugar</th>\n",
       "      <th>chlorides</th>\n",
       "      <th>free sulfur dioxide</th>\n",
       "      <th>total sulfur dioxide</th>\n",
       "      <th>density</th>\n",
       "      <th>pH</th>\n",
       "      <th>sulphates</th>\n",
       "      <th>alcohol</th>\n",
       "    </tr>\n",
       "  </thead>\n",
       "  <tbody>\n",
       "    <tr>\n",
       "      <th>795</th>\n",
       "      <td>7.2</td>\n",
       "      <td>0.31</td>\n",
       "      <td>0.26</td>\n",
       "      <td>7.3</td>\n",
       "      <td>0.050</td>\n",
       "      <td>37.0</td>\n",
       "      <td>157.0</td>\n",
       "      <td>0.99625</td>\n",
       "      <td>3.09</td>\n",
       "      <td>0.43</td>\n",
       "      <td>9.0</td>\n",
       "    </tr>\n",
       "    <tr>\n",
       "      <th>4249</th>\n",
       "      <td>5.5</td>\n",
       "      <td>0.23</td>\n",
       "      <td>0.19</td>\n",
       "      <td>2.2</td>\n",
       "      <td>0.044</td>\n",
       "      <td>39.0</td>\n",
       "      <td>161.0</td>\n",
       "      <td>0.99209</td>\n",
       "      <td>3.19</td>\n",
       "      <td>0.43</td>\n",
       "      <td>10.4</td>\n",
       "    </tr>\n",
       "    <tr>\n",
       "      <th>3630</th>\n",
       "      <td>6.6</td>\n",
       "      <td>0.30</td>\n",
       "      <td>0.25</td>\n",
       "      <td>8.0</td>\n",
       "      <td>0.036</td>\n",
       "      <td>21.0</td>\n",
       "      <td>124.0</td>\n",
       "      <td>0.99362</td>\n",
       "      <td>3.06</td>\n",
       "      <td>0.38</td>\n",
       "      <td>10.8</td>\n",
       "    </tr>\n",
       "    <tr>\n",
       "      <th>418</th>\n",
       "      <td>7.4</td>\n",
       "      <td>0.21</td>\n",
       "      <td>0.27</td>\n",
       "      <td>1.2</td>\n",
       "      <td>0.041</td>\n",
       "      <td>27.0</td>\n",
       "      <td>99.0</td>\n",
       "      <td>0.99270</td>\n",
       "      <td>3.19</td>\n",
       "      <td>0.33</td>\n",
       "      <td>9.8</td>\n",
       "    </tr>\n",
       "    <tr>\n",
       "      <th>1389</th>\n",
       "      <td>8.1</td>\n",
       "      <td>0.19</td>\n",
       "      <td>0.40</td>\n",
       "      <td>0.9</td>\n",
       "      <td>0.037</td>\n",
       "      <td>73.0</td>\n",
       "      <td>180.0</td>\n",
       "      <td>0.99260</td>\n",
       "      <td>3.06</td>\n",
       "      <td>0.34</td>\n",
       "      <td>10.0</td>\n",
       "    </tr>\n",
       "  </tbody>\n",
       "</table>\n",
       "</div>"
      ],
      "text/plain": [
       "      fixed acidity  volatile acidity  citric acid  residual sugar  chlorides  \\\n",
       "795             7.2              0.31         0.26             7.3      0.050   \n",
       "4249            5.5              0.23         0.19             2.2      0.044   \n",
       "3630            6.6              0.30         0.25             8.0      0.036   \n",
       "418             7.4              0.21         0.27             1.2      0.041   \n",
       "1389            8.1              0.19         0.40             0.9      0.037   \n",
       "\n",
       "      free sulfur dioxide  total sulfur dioxide  density    pH  sulphates  \\\n",
       "795                  37.0                 157.0  0.99625  3.09       0.43   \n",
       "4249                 39.0                 161.0  0.99209  3.19       0.43   \n",
       "3630                 21.0                 124.0  0.99362  3.06       0.38   \n",
       "418                  27.0                  99.0  0.99270  3.19       0.33   \n",
       "1389                 73.0                 180.0  0.99260  3.06       0.34   \n",
       "\n",
       "      alcohol  \n",
       "795       9.0  \n",
       "4249     10.4  \n",
       "3630     10.8  \n",
       "418       9.8  \n",
       "1389     10.0  "
      ]
     },
     "execution_count": 113,
     "metadata": {},
     "output_type": "execute_result"
    }
   ],
   "source": [
    "X_w_train_new = X_w_train.copy()\n",
    "X_w_test_new = X_w_test.copy()\n",
    "X_w_train_new.head()"
   ]
  },
  {
   "cell_type": "code",
   "execution_count": 114,
   "metadata": {},
   "outputs": [
    {
     "data": {
      "text/html": [
       "<div>\n",
       "<style scoped>\n",
       "    .dataframe tbody tr th:only-of-type {\n",
       "        vertical-align: middle;\n",
       "    }\n",
       "\n",
       "    .dataframe tbody tr th {\n",
       "        vertical-align: top;\n",
       "    }\n",
       "\n",
       "    .dataframe thead th {\n",
       "        text-align: right;\n",
       "    }\n",
       "</style>\n",
       "<table border=\"1\" class=\"dataframe\">\n",
       "  <thead>\n",
       "    <tr style=\"text-align: right;\">\n",
       "      <th></th>\n",
       "      <th>fixed acidity</th>\n",
       "      <th>volatile acidity</th>\n",
       "      <th>citric acid</th>\n",
       "      <th>chlorides</th>\n",
       "      <th>total sulfur dioxide</th>\n",
       "      <th>density</th>\n",
       "      <th>pH</th>\n",
       "      <th>sulphates</th>\n",
       "      <th>alcohol</th>\n",
       "    </tr>\n",
       "  </thead>\n",
       "  <tbody>\n",
       "    <tr>\n",
       "      <th>795</th>\n",
       "      <td>7.2</td>\n",
       "      <td>0.31</td>\n",
       "      <td>0.26</td>\n",
       "      <td>0.050</td>\n",
       "      <td>157.0</td>\n",
       "      <td>0.99625</td>\n",
       "      <td>3.09</td>\n",
       "      <td>0.43</td>\n",
       "      <td>9.0</td>\n",
       "    </tr>\n",
       "    <tr>\n",
       "      <th>4249</th>\n",
       "      <td>5.5</td>\n",
       "      <td>0.23</td>\n",
       "      <td>0.19</td>\n",
       "      <td>0.044</td>\n",
       "      <td>161.0</td>\n",
       "      <td>0.99209</td>\n",
       "      <td>3.19</td>\n",
       "      <td>0.43</td>\n",
       "      <td>10.4</td>\n",
       "    </tr>\n",
       "    <tr>\n",
       "      <th>3630</th>\n",
       "      <td>6.6</td>\n",
       "      <td>0.30</td>\n",
       "      <td>0.25</td>\n",
       "      <td>0.036</td>\n",
       "      <td>124.0</td>\n",
       "      <td>0.99362</td>\n",
       "      <td>3.06</td>\n",
       "      <td>0.38</td>\n",
       "      <td>10.8</td>\n",
       "    </tr>\n",
       "    <tr>\n",
       "      <th>418</th>\n",
       "      <td>7.4</td>\n",
       "      <td>0.21</td>\n",
       "      <td>0.27</td>\n",
       "      <td>0.041</td>\n",
       "      <td>99.0</td>\n",
       "      <td>0.99270</td>\n",
       "      <td>3.19</td>\n",
       "      <td>0.33</td>\n",
       "      <td>9.8</td>\n",
       "    </tr>\n",
       "    <tr>\n",
       "      <th>1389</th>\n",
       "      <td>8.1</td>\n",
       "      <td>0.19</td>\n",
       "      <td>0.40</td>\n",
       "      <td>0.037</td>\n",
       "      <td>180.0</td>\n",
       "      <td>0.99260</td>\n",
       "      <td>3.06</td>\n",
       "      <td>0.34</td>\n",
       "      <td>10.0</td>\n",
       "    </tr>\n",
       "  </tbody>\n",
       "</table>\n",
       "</div>"
      ],
      "text/plain": [
       "      fixed acidity  volatile acidity  citric acid  chlorides  \\\n",
       "795             7.2              0.31         0.26      0.050   \n",
       "4249            5.5              0.23         0.19      0.044   \n",
       "3630            6.6              0.30         0.25      0.036   \n",
       "418             7.4              0.21         0.27      0.041   \n",
       "1389            8.1              0.19         0.40      0.037   \n",
       "\n",
       "      total sulfur dioxide  density    pH  sulphates  alcohol  \n",
       "795                  157.0  0.99625  3.09       0.43      9.0  \n",
       "4249                 161.0  0.99209  3.19       0.43     10.4  \n",
       "3630                 124.0  0.99362  3.06       0.38     10.8  \n",
       "418                   99.0  0.99270  3.19       0.33      9.8  \n",
       "1389                 180.0  0.99260  3.06       0.34     10.0  "
      ]
     },
     "execution_count": 114,
     "metadata": {},
     "output_type": "execute_result"
    }
   ],
   "source": [
    "X = X_w_train_new.drop(['residual sugar','free sulfur dioxide'], axis=1)\n",
    "X.head()"
   ]
  },
  {
   "cell_type": "code",
   "execution_count": 115,
   "metadata": {},
   "outputs": [],
   "source": [
    "X_test = X_w_test_new.drop(['residual sugar','free sulfur dioxide'], axis=1)"
   ]
  },
  {
   "cell_type": "code",
   "execution_count": 116,
   "metadata": {},
   "outputs": [],
   "source": [
    "rf_params = {'max_depth': range(1, 102, 5), 'min_samples_split': range(2,11)}"
   ]
  },
  {
   "cell_type": "code",
   "execution_count": 117,
   "metadata": {},
   "outputs": [
    {
     "name": "stdout",
     "output_type": "stream",
     "text": [
      "********************************************\n",
      "Random Forestscaled = False\n",
      "********************************************\n",
      "Best parameters: {'max_depth': 26, 'min_samples_split': 2}\n",
      "0.6233955659276547 0.6428571428571429\n"
     ]
    }
   ],
   "source": [
    "fitGlobalParams(X, y_w_train, X_test, y_w_test, 'Random Forest', rf_params, RandomForestClassifier(), False)"
   ]
  },
  {
   "cell_type": "code",
   "execution_count": 119,
   "metadata": {},
   "outputs": [],
   "source": [
    "def rfGPfit(X_train, y_train, name):\n",
    "    clf = GridSearchCV(RandomForestClassifier(), rf_params, cv=5, return_train_score=True)\n",
    "    clf.fit(X_train, y_train)\n",
    "    print(name, 'Best parameters:', clf.best_params_, 'Score: ', clf.best_score_)"
   ]
  },
  {
   "cell_type": "code",
   "execution_count": 120,
   "metadata": {},
   "outputs": [
    {
     "data": {
      "text/plain": [
       "<function matplotlib.pyplot.show(*args, **kw)>"
      ]
     },
     "execution_count": 120,
     "metadata": {},
     "output_type": "execute_result"
    },
    {
     "data": {
      "image/png": "[encoded data removed]",
      "text/plain": [
       "<Figure size 432x288 with 1 Axes>"
      ]
     },
     "metadata": {},
     "output_type": "display_data"
    }
   ],
   "source": [
    "plt.scatter(XY_w['density'], XY_w['residual sugar'], c=y_w_train)\n",
    "plt.legend = True\n",
    "plt.show"
   ]
  },
  {
   "cell_type": "code",
   "execution_count": 121,
   "metadata": {},
   "outputs": [
    {
     "data": {
      "text/html": [
       "<div>\n",
       "<style scoped>\n",
       "    .dataframe tbody tr th:only-of-type {\n",
       "        vertical-align: middle;\n",
       "    }\n",
       "\n",
       "    .dataframe tbody tr th {\n",
       "        vertical-align: top;\n",
       "    }\n",
       "\n",
       "    .dataframe thead th {\n",
       "        text-align: right;\n",
       "    }\n",
       "</style>\n",
       "<table border=\"1\" class=\"dataframe\">\n",
       "  <thead>\n",
       "    <tr style=\"text-align: right;\">\n",
       "      <th></th>\n",
       "      <th>fixed acidity</th>\n",
       "      <th>volatile acidity</th>\n",
       "      <th>citric acid</th>\n",
       "      <th>residual sugar</th>\n",
       "      <th>chlorides</th>\n",
       "      <th>free sulfur dioxide</th>\n",
       "      <th>total sulfur dioxide</th>\n",
       "      <th>density</th>\n",
       "      <th>pH</th>\n",
       "      <th>sulphates</th>\n",
       "      <th>alcohol</th>\n",
       "      <th>y</th>\n",
       "    </tr>\n",
       "  </thead>\n",
       "  <tbody>\n",
       "    <tr>\n",
       "      <th>1653</th>\n",
       "      <td>7.9</td>\n",
       "      <td>0.330</td>\n",
       "      <td>0.28</td>\n",
       "      <td>31.6</td>\n",
       "      <td>0.053</td>\n",
       "      <td>35.0</td>\n",
       "      <td>176.0</td>\n",
       "      <td>1.01030</td>\n",
       "      <td>3.15</td>\n",
       "      <td>0.38</td>\n",
       "      <td>8.8</td>\n",
       "      <td>6</td>\n",
       "    </tr>\n",
       "    <tr>\n",
       "      <th>2781</th>\n",
       "      <td>7.8</td>\n",
       "      <td>0.965</td>\n",
       "      <td>0.60</td>\n",
       "      <td>65.8</td>\n",
       "      <td>0.074</td>\n",
       "      <td>8.0</td>\n",
       "      <td>160.0</td>\n",
       "      <td>1.03898</td>\n",
       "      <td>3.39</td>\n",
       "      <td>0.69</td>\n",
       "      <td>11.7</td>\n",
       "      <td>6</td>\n",
       "    </tr>\n",
       "  </tbody>\n",
       "</table>\n",
       "</div>"
      ],
      "text/plain": [
       "      fixed acidity  volatile acidity  citric acid  residual sugar  chlorides  \\\n",
       "1653            7.9             0.330         0.28            31.6      0.053   \n",
       "2781            7.8             0.965         0.60            65.8      0.074   \n",
       "\n",
       "      free sulfur dioxide  total sulfur dioxide  density    pH  sulphates  \\\n",
       "1653                 35.0                 176.0  1.01030  3.15       0.38   \n",
       "2781                  8.0                 160.0  1.03898  3.39       0.69   \n",
       "\n",
       "      alcohol  y  \n",
       "1653      8.8  6  \n",
       "2781     11.7  6  "
      ]
     },
     "execution_count": 121,
     "metadata": {},
     "output_type": "execute_result"
    }
   ],
   "source": [
    "XY_w[XY_w['density'] > 1.005]"
   ]
  },
  {
   "cell_type": "code",
   "execution_count": 122,
   "metadata": {},
   "outputs": [],
   "source": [
    "XY_w2 = XY_w[XY_w['density'] < 1.005].copy()"
   ]
  },
  {
   "cell_type": "code",
   "execution_count": 123,
   "metadata": {},
   "outputs": [
    {
     "data": {
      "text/plain": [
       "<function matplotlib.pyplot.show(*args, **kw)>"
      ]
     },
     "execution_count": 123,
     "metadata": {},
     "output_type": "execute_result"
    },
    {
     "data": {
      "image/png": "[encoded data removed]",
      "text/plain": [
       "<Figure size 432x288 with 1 Axes>"
      ]
     },
     "metadata": {},
     "output_type": "display_data"
    }
   ],
   "source": [
    "plt.scatter(XY_w2['density'], XY_w2['residual sugar'], c=XY_w2['y'])\n",
    "plt.legend = True\n",
    "plt.show"
   ]
  },
  {
   "cell_type": "code",
   "execution_count": 124,
   "metadata": {},
   "outputs": [
    {
     "name": "stdout",
     "output_type": "stream",
     "text": [
      "cleaned Best parameters: {'max_depth': 21, 'min_samples_split': 2} Score:  0.6252189141856392\n"
     ]
    }
   ],
   "source": [
    "X_w2 = XY_w2[features]\n",
    "y_w2 = XY_w2['y']\n",
    "rfGPfit(X_w2, y_w2, 'cleaned')"
   ]
  },
  {
   "cell_type": "code",
   "execution_count": 125,
   "metadata": {},
   "outputs": [],
   "source": [
    "rfc_w2 = RandomForestClassifier(max_depth=21, min_samples_split=2, random_state=17)"
   ]
  },
  {
   "cell_type": "code",
   "execution_count": 126,
   "metadata": {},
   "outputs": [
    {
     "data": {
      "text/plain": [
       "0.654421768707483"
      ]
     },
     "execution_count": 126,
     "metadata": {},
     "output_type": "execute_result"
    }
   ],
   "source": [
    "rfc_w2.fit(X_w2, y_w2)\n",
    "rfc_w2.score(X_w_test, y_w_test)"
   ]
  }
 ],
 "metadata": {
  "kernelspec": {
   "display_name": "Python 3",
   "language": "python",
   "name": "python3"
  },
  "language_info": {
   "codemirror_mode": {
    "name": "ipython",
    "version": 3
   },
   "file_extension": ".py",
   "mimetype": "text/x-python",
   "name": "python",
   "nbconvert_exporter": "python",
   "pygments_lexer": "ipython3",
   "version": "3.6.5"
  }
 },
 "nbformat": 4,
 "nbformat_minor": 2
}
